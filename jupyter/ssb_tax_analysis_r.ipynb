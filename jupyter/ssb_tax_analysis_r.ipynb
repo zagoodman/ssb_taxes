{
 "cells": [
  {
   "cell_type": "markdown",
   "metadata": {
    "toc": true
   },
   "source": [
    "<h1>Table of Contents<span class=\"tocSkip\"></span></h1>\n",
    "<div class=\"toc\"><ul class=\"toc-item\"><li><span><a href=\"#Import-packages-and-data\" data-toc-modified-id=\"Import-packages-and-data-1\"><span class=\"toc-item-num\">1&nbsp;&nbsp;</span>Import packages and data</a></span></li><li><span><a href=\"#Synthetic-Controls-and-Diff-in-diff\" data-toc-modified-id=\"Synthetic-Controls-and-Diff-in-diff-2\"><span class=\"toc-item-num\">2&nbsp;&nbsp;</span>Synthetic Controls and Diff-in-diff</a></span></li><li><span><a href=\"#Stacked-Diff-in-diff\" data-toc-modified-id=\"Stacked-Diff-in-diff-3\"><span class=\"toc-item-num\">3&nbsp;&nbsp;</span>Stacked Diff-in-diff</a></span></li></ul></div>"
   ]
  },
  {
   "cell_type": "markdown",
   "metadata": {},
   "source": [
    "This file contains analysis for Goodman & Orchard (2021) in R."
   ]
  },
  {
   "cell_type": "markdown",
   "metadata": {},
   "source": [
    "## Import packages and data"
   ]
  },
  {
   "cell_type": "code",
   "execution_count": null,
   "metadata": {},
   "outputs": [],
   "source": [
    "library(synthdid)\n",
    "library(dplyr)\n",
    "library(did)"
   ]
  },
  {
   "cell_type": "markdown",
   "metadata": {},
   "source": [
    "## Synthetic Controls and Diff-in-diff"
   ]
  },
  {
   "cell_type": "code",
   "execution_count": null,
   "metadata": {},
   "outputs": [],
   "source": [
    "# Load data and format\n",
    "df <- read.csv('../data/temp_data/synth_prepped.csv')\n",
    "df <- df[df['months_since_treat'] <= 22, c(1, 5, 6, 4)]\n",
    "df['months_since_treat'] = df['months_since_treat'] - 19\n",
    "\n",
    "df %>% head()"
   ]
  },
  {
   "cell_type": "code",
   "execution_count": null,
   "metadata": {},
   "outputs": [],
   "source": [
    "# Synthetic Control in Cook County\n",
    "\n",
    "setup = panel.matrices(df)\n",
    "tau.hat = sc_estimate(setup$Y, setup2$N0, setup2$T0)\n",
    "se = sqrt(vcov(tau.hat, method='placebo'))\n",
    "sprintf('point estimate: %1.2f', tau.hat)\n",
    "sprintf('95%% CI (%1.2f, %1.2f)', tau.hat - 1.96 * se, tau.hat + 1.96 * se)\n",
    "plot(tau.hat)"
   ]
  },
  {
   "cell_type": "code",
   "execution_count": null,
   "metadata": {},
   "outputs": [],
   "source": [
    "synthdid_units_plot(tau.hat)"
   ]
  },
  {
   "cell_type": "code",
   "execution_count": null,
   "metadata": {
    "scrolled": false
   },
   "outputs": [],
   "source": [
    "# Synthetic DiD in Cook County\n",
    "\n",
    "setup2 = panel.matrices(df)\n",
    "tau.hat = synthdid_estimate(setup2$Y, setup2$N0, setup2$T0)\n",
    "se = sqrt(vcov(tau.hat, method='placebo'))\n",
    "sprintf('point estimate: %1.2f', tau.hat)\n",
    "sprintf('95%% CI (%1.2f, %1.2f)', tau.hat - 1.96 * se, tau.hat + 1.96 * se)\n",
    "plot(tau.hat)"
   ]
  },
  {
   "cell_type": "code",
   "execution_count": null,
   "metadata": {},
   "outputs": [],
   "source": [
    "synthdid_units_plot(tau.hat)"
   ]
  },
  {
   "cell_type": "markdown",
   "metadata": {},
   "source": [
    "## Stacked Diff-in-diff\n",
    "\n",
    "We'll use the methods of Callaway and Sant'Anna here."
   ]
  },
  {
   "cell_type": "code",
   "execution_count": null,
   "metadata": {},
   "outputs": [],
   "source": [
    "df2 <- read.csv('../data/gen_data/panelist_nutrition_month.csv')\n",
    "df2 %>% head()"
   ]
  },
  {
   "cell_type": "code",
   "execution_count": null,
   "metadata": {},
   "outputs": [],
   "source": [
    "# encode locality variable\n",
    "\n",
    "df2['locality'] %>% table()\n",
    "df2['locality_num'] = as.numeric(as.factor(df2[['locality']]))\n",
    "df2['locality_num'] %>% table()"
   ]
  },
  {
   "cell_type": "code",
   "execution_count": null,
   "metadata": {},
   "outputs": [],
   "source": [
    "df2['yearmonth_treat'] %>% table(exclude = FALSE)"
   ]
  },
  {
   "cell_type": "code",
   "execution_count": null,
   "metadata": {},
   "outputs": [],
   "source": [
    "# add future date to `yearmonth_treat` for control obs\n",
    "\n",
    "df2[is.na(df2$yearmonth_treat), 'yearmonth_treat'] = 2020"
   ]
  },
  {
   "cell_type": "code",
   "execution_count": null,
   "metadata": {},
   "outputs": [],
   "source": [
    "out <- att_gt(yname = \"sugargrams\",\n",
    "              tname = \"yearmonth\",\n",
    "              idname = \"household_code\",\n",
    "              gname = \"yearmonth_treat\",\n",
    "              xformla = ~1,\n",
    "              data = df2,\n",
    "              panel=TRUE,\n",
    "              allow_unbalanced_panel=FALSE,\n",
    "              control_group = c(\"nevertreated\", \"notyettreated\"),\n",
    "              anticipation = 0,\n",
    "              weightsname = NULL,\n",
    "              alp = 0.05,\n",
    "              bstrap = TRUE,\n",
    "              cband = TRUE,\n",
    "              biters = 1000,\n",
    "              clustervars = \"household_code\",\n",
    "              est_method = \"reg\",\n",
    "              print_details = TRUE)"
   ]
  },
  {
   "cell_type": "code",
   "execution_count": null,
   "metadata": {},
   "outputs": [],
   "source": [
    "agg.simple <- aggte(out, type = 'simple')\n",
    "summary(agg.simple)"
   ]
  }
 ],
 "metadata": {
  "kernelspec": {
   "display_name": "R",
   "language": "R",
   "name": "ir"
  },
  "language_info": {
   "codemirror_mode": "r",
   "file_extension": ".r",
   "mimetype": "text/x-r-source",
   "name": "R",
   "pygments_lexer": "r",
   "version": "4.0.3"
  },
  "toc": {
   "base_numbering": 1,
   "nav_menu": {},
   "number_sections": true,
   "sideBar": true,
   "skip_h1_title": true,
   "title_cell": "Table of Contents",
   "title_sidebar": "Contents",
   "toc_cell": true,
   "toc_position": {},
   "toc_section_display": true,
   "toc_window_display": true
  }
 },
 "nbformat": 4,
 "nbformat_minor": 4
}
