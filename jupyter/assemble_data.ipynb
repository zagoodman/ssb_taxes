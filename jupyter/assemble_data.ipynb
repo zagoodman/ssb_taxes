{
 "cells": [
  {
   "cell_type": "markdown",
   "metadata": {
    "toc": true
   },
   "source": [
    "<h1>Table of Contents<span class=\"tocSkip\"></span></h1>\n",
    "<div class=\"toc\"><ul class=\"toc-item\"><li><span><a href=\"#Get-relevant-Nielsen-products\" data-toc-modified-id=\"Get-relevant-Nielsen-products-1\"><span class=\"toc-item-num\">1&nbsp;&nbsp;</span>Get relevant Nielsen products</a></span><ul class=\"toc-item\"><li><span><a href=\"#Import-purchased-products\" data-toc-modified-id=\"Import-purchased-products-1.1\"><span class=\"toc-item-num\">1.1&nbsp;&nbsp;</span>Import purchased products</a></span></li><li><span><a href=\"#Import-and-merge-product-data\" data-toc-modified-id=\"Import-and-merge-product-data-1.2\"><span class=\"toc-item-num\">1.2&nbsp;&nbsp;</span>Import and merge product data</a></span></li><li><span><a href=\"#Drop-nonfood-products\" data-toc-modified-id=\"Drop-nonfood-products-1.3\"><span class=\"toc-item-num\">1.3&nbsp;&nbsp;</span>Drop nonfood products</a></span></li></ul></li><li><span><a href=\"#Get-nutrition-data\" data-toc-modified-id=\"Get-nutrition-data-2\"><span class=\"toc-item-num\">2&nbsp;&nbsp;</span>Get nutrition data</a></span><ul class=\"toc-item\"><li><span><a href=\"#Assemble-nutrition-data\" data-toc-modified-id=\"Assemble-nutrition-data-2.1\"><span class=\"toc-item-num\">2.1&nbsp;&nbsp;</span>Assemble nutrition data</a></span></li><li><span><a href=\"#Clean-nutrition-data\" data-toc-modified-id=\"Clean-nutrition-data-2.2\"><span class=\"toc-item-num\">2.2&nbsp;&nbsp;</span>Clean nutrition data</a></span></li><li><span><a href=\"#Reshape-wide\" data-toc-modified-id=\"Reshape-wide-2.3\"><span class=\"toc-item-num\">2.3&nbsp;&nbsp;</span>Reshape wide</a></span></li></ul></li><li><span><a href=\"#Impute-data-for-missings\" data-toc-modified-id=\"Impute-data-for-missings-3\"><span class=\"toc-item-num\">3&nbsp;&nbsp;</span>Impute data for missings</a></span><ul class=\"toc-item\"><li><span><a href=\"#Merge-products-extra\" data-toc-modified-id=\"Merge-products-extra-3.1\"><span class=\"toc-item-num\">3.1&nbsp;&nbsp;</span>Merge products extra</a></span></li><li><span><a href=\"#Impute\" data-toc-modified-id=\"Impute-3.2\"><span class=\"toc-item-num\">3.2&nbsp;&nbsp;</span>Impute</a></span></li></ul></li><li><span><a href=\"#Nutrients-per-month\" data-toc-modified-id=\"Nutrients-per-month-4\"><span class=\"toc-item-num\">4&nbsp;&nbsp;</span>Nutrients per month</a></span></li><li><span><a href=\"#Collapse-to-household-month-level\" data-toc-modified-id=\"Collapse-to-household-month-level-5\"><span class=\"toc-item-num\">5&nbsp;&nbsp;</span>Collapse to household-month level</a></span><ul class=\"toc-item\"><li><span><a href=\"#Import-trip-nutrition-data\" data-toc-modified-id=\"Import-trip-nutrition-data-5.1\"><span class=\"toc-item-num\">5.1&nbsp;&nbsp;</span>Import trip-nutrition data</a></span></li><li><span><a href=\"#Get-panelists'-treatment-statuses\" data-toc-modified-id=\"Get-panelists'-treatment-statuses-5.2\"><span class=\"toc-item-num\">5.2&nbsp;&nbsp;</span>Get panelists' treatment statuses</a></span></li><li><span><a href=\"#Collapse-to-household-month\" data-toc-modified-id=\"Collapse-to-household-month-5.3\"><span class=\"toc-item-num\">5.3&nbsp;&nbsp;</span>Collapse to household-month</a></span></li><li><span><a href=\"#Get-panelists'-treatment-statuses\" data-toc-modified-id=\"Get-panelists'-treatment-statuses-5.4\"><span class=\"toc-item-num\">5.4&nbsp;&nbsp;</span>Get panelists' treatment statuses</a></span></li></ul></li><li><span><a href=\"#Panelist-demographic-data\" data-toc-modified-id=\"Panelist-demographic-data-6\"><span class=\"toc-item-num\">6&nbsp;&nbsp;</span>Panelist demographic data</a></span></li><li><span><a href=\"#Cook-County-Zip-Layers\" data-toc-modified-id=\"Cook-County-Zip-Layers-7\"><span class=\"toc-item-num\">7&nbsp;&nbsp;</span>Cook County Zip Layers</a></span></li><li><span><a href=\"#Treated-stores\" data-toc-modified-id=\"Treated-stores-8\"><span class=\"toc-item-num\">8&nbsp;&nbsp;</span>Treated stores</a></span></li><li><span><a href=\"#Alcohol-purchases-per-month\" data-toc-modified-id=\"Alcohol-purchases-per-month-9\"><span class=\"toc-item-num\">9&nbsp;&nbsp;</span>Alcohol purchases per month</a></span></li></ul></div>"
   ]
  },
  {
   "cell_type": "markdown",
   "metadata": {},
   "source": [
    "# get_nutrition_data\n",
    "By: Zachary A. Goodman\n",
    "\n",
    "This script outputs all data ready to be analyzed in `ssb_tax_analysis`. "
   ]
  },
  {
   "cell_type": "code",
   "execution_count": null,
   "metadata": {},
   "outputs": [],
   "source": [
    "clear all\n",
    "\n",
    "* set working directory\n",
    "qui cd ../\n",
    "\n",
    "* set global directories\n",
    "global raw_data ./data/raw_data\n",
    "global temp_data ./data/temp_data\n",
    "global gen_data ./data/gen_data\n",
    "global figures ./tex/figures\n",
    "global tables ./tex/tables\n",
    "\n",
    "* check dependencies\n",
    "which gtools"
   ]
  },
  {
   "cell_type": "markdown",
   "metadata": {},
   "source": [
    "## Get relevant Nielsen products\n",
    "Strategy:\n",
    "1. import purchased products from 2016 - 2019 and drop duplicates\n",
    "3. left merge product data\n",
    "3. drop nonfood products"
   ]
  },
  {
   "cell_type": "markdown",
   "metadata": {},
   "source": [
    "### Import purchased products"
   ]
  },
  {
   "cell_type": "code",
   "execution_count": null,
   "metadata": {},
   "outputs": [],
   "source": [
    "* import all purchased upcs, keep one copy of each\n",
    "\n",
    "clear\n",
    "tempfile temp\n",
    "\n",
    "forvalues year = 2016/2019 {\n",
    "    capture restore\n",
    "    preserve\n",
    "    clear\n",
    "    di \"getting `year'...\"\n",
    "    import delimited \"$raw_data/hms/`year'/purchases_`year'.tsv\", varnames(1) colrange(2:2)\n",
    "    bys upc: keep if _n == 1\n",
    "    qui save `temp', replace\n",
    "    restore\n",
    "    append using `temp'\n",
    "}\n",
    "\n",
    "bys upc: keep if _n == 1 // why? duplicates across years. Dropping inside loop for speed\n",
    "\n",
    "save $temp_data/unique_purchased_upcs_1619.dta, replace"
   ]
  },
  {
   "cell_type": "code",
   "execution_count": null,
   "metadata": {},
   "outputs": [],
   "source": [
    "desc"
   ]
  },
  {
   "cell_type": "markdown",
   "metadata": {},
   "source": [
    "### Import and merge product data"
   ]
  },
  {
   "cell_type": "code",
   "execution_count": null,
   "metadata": {
    "scrolled": true
   },
   "outputs": [],
   "source": [
    "clear\n",
    "import delimited \"$raw_data/hms/master/products.tsv\", varnames(1) bindquote(nobind)\n",
    "\n",
    "* keep only necessary variables\n",
    "keep upc upc_ver_uc product_module_code product_group_code department_code ///\n",
    "    brand_code_uc multi size1_code_uc size1_amount size1_units ///\n",
    "    upc_desc brand_desc product_module_desc product_group_desc department_desc\n",
    "* TODO: drop desc vars\n",
    "\n",
    "* keep only one copy of each product\n",
    "bys upc: keep if upc_ver_uc == 1\n",
    "drop upc_ver_uc"
   ]
  },
  {
   "cell_type": "code",
   "execution_count": null,
   "metadata": {},
   "outputs": [],
   "source": [
    "/* left merge product data on purchases. \n",
    "Note that all purchases have a matching product, so keeping matching\n",
    "observations only is a left merge. */\n",
    "\n",
    "merge 1:1 upc using $temp_data/unique_purchased_upcs_1619.dta, keep(3) nogen\n",
    "save $temp_data/unique_purchased_products_1619.dta, replace"
   ]
  },
  {
   "cell_type": "code",
   "execution_count": null,
   "metadata": {},
   "outputs": [],
   "source": [
    "desc"
   ]
  },
  {
   "cell_type": "markdown",
   "metadata": {},
   "source": [
    "### Drop nonfood products"
   ]
  },
  {
   "cell_type": "code",
   "execution_count": null,
   "metadata": {},
   "outputs": [],
   "source": [
    "* drop alcohol, non food grocery, and general merchandise\n",
    "drop if inlist(department_code, 0, 7, 9)\n",
    "\n",
    "* drop baby food product modules\n",
    "drop if inlist(product_module_code, 1274, 1272, 1276, 1282)\n",
    "\n",
    "* drop pet food product modules\n",
    "drop if inlist(product_module_code, 1313, 1303, 1311, 1309, ///\n",
    "    1306, 1300, 1310, 1304, 1299, 1301)\n",
    "\n",
    "* drop ice, cooking wine, fruit protectors\n",
    "drop if inlist(product_module_code, 2610, 1189, 1448)\n",
    "\n",
    "* drop if unclassified non-food\n",
    "drop if inlist(product_module_code, 902, 914)\n",
    "drop if product_module_code == 9999 & ///\n",
    "    !inlist(brand_desc, \"PIRATE'S BOOTY\", \"JACK LINK'S\", \"CAJUN INJECTOR\", ///\n",
    "        \"POP SECRET KIDZ\", \"PRODUCE ELECTRONIC ID BOARD\", \"HERSHEY'S SWEET ESCAPES\", ///\n",
    "        \"BENE CASA\", \"NABISCO\") & ///\n",
    "    !inlist(brand_desc, \"BEST FOODS\", \"BANQUET MORNING BAKES\", \"POLAR\", ///\n",
    "        \"COUNTRY FRSH KTS&NTRLY FRSH II\", \"APPLE & EVE\", \"DUNCAN HINES\", \"KEURIG\", ///\n",
    "        \"DEL MONTE\", \"OLE' GUACAMOLE!\") & ///\n",
    "    !inlist(brand_desc, \"TASTY BITE\", \"TAYLOR FARMS & LITEHOUSE\", \"LUCKY ME! & SKY FLAKES\")"
   ]
  },
  {
   "cell_type": "code",
   "execution_count": null,
   "metadata": {},
   "outputs": [],
   "source": [
    "desc\n",
    "count if mi(product_module_code)"
   ]
  },
  {
   "cell_type": "code",
   "execution_count": null,
   "metadata": {},
   "outputs": [],
   "source": [
    "save $temp_data/relevant_food_products_1619.dta, replace"
   ]
  },
  {
   "cell_type": "markdown",
   "metadata": {},
   "source": [
    "## Get nutrition data\n",
    "\n",
    "Merge raw nutrition data and clean"
   ]
  },
  {
   "cell_type": "markdown",
   "metadata": {},
   "source": [
    "### Assemble nutrition data"
   ]
  },
  {
   "cell_type": "code",
   "execution_count": null,
   "metadata": {
    "scrolled": false
   },
   "outputs": [],
   "source": [
    "* Import upc-nutrient data\n",
    "clear\n",
    "import delimited \"$raw_data/nutrition/Nutrient.txt\", varnames(1) asdouble\n",
    "// only keep unprepared versions of products\n",
    "keep if valuepreparedtype == \"0\"\n",
    "drop valuepreparedtype isorcontains\n",
    "qui save $temp_data/nutrition.dta, replace\n",
    "\n",
    "\n",
    "* Merge nutrient labels\n",
    "clear\n",
    "import delimited \"$raw_data/nutrition/NutrientMaster.txt\", varnames(1) asdouble \n",
    "// keep selected nutrients only\n",
    "keep if inlist(name, \"Calories\", \"Calories from Fat\", \"Cholesterol\", ///\n",
    "    \"Dietary Fiber\", \"Protein\", \"Saturated Fat\", \"Sodium\", \"Sugars\", ///\n",
    "    \"Total Carbohydrate\") | inlist(name, \"Total Fat\", \"Trans Fat\")\n",
    "/*\n",
    "Later investigate these nutrients? \n",
    "\"Calcium\", \"Iron\", \"MetricServingSize\", \"Organic\", \"Vitamin A\", ///\n",
    "\"Vitamin C\", \"Monounsaturated Fat\", \"Polyunsaturated Fat\", \"Potassium\" \n",
    "*/\n",
    "drop type\n",
    "tempfile temp\n",
    "qui save `temp'\n",
    "use $temp_data/nutrition.dta, clear\n",
    "// merge and drop nutrients that aren't in the standard nutrition facts\n",
    "merge m:1 nutrientmasterid using `temp', keep(3) nogen\n",
    "drop nutrientmasterid\n",
    "save $temp_data/nutrition.dta, replace\n",
    "\n",
    "\n",
    "* Merge all upc-level attributes\n",
    "clear\n",
    "import delimited \"$raw_data/nutrition/ValuePrepared.txt\", varnames(1) asdouble\n",
    "// keep only unprepared versions of products\n",
    "keep if valuepreparedtype == \"0\"\n",
    "drop valuepreparedtype\n",
    "qui save `temp', replace\n",
    "import delimited \"$raw_data/nutrition/Product.txt\", varnames(1) asdouble clear\n",
    "keep upc brand itemsize itemmeasure productweight itemname description\n",
    "merge 1:1 upc using `temp', keep(3) nogen\n",
    "qui save `temp', replace\n",
    "\n",
    "\n",
    "* Merge upc-nutrient level data with upc-level data\n",
    "use $temp_data/nutrition.dta, clear\n",
    "merge m:1 upc using `temp', keep(3) nogen\n",
    "\n",
    "* arrange data and save\n",
    "rename name nutrient\n",
    "sort upc nutrient\n",
    "order upc nutrient quantity uom itemname description addeditem brand ///\n",
    "    itemsize itemmeasure productweight servings* pct\n",
    "save $temp_data/nutrition.dta, replace \n",
    "\n",
    "\n",
    "tab nutrient\n",
    "unique upc\n",
    "desc"
   ]
  },
  {
   "cell_type": "markdown",
   "metadata": {},
   "source": [
    "### Clean nutrition data"
   ]
  },
  {
   "cell_type": "code",
   "execution_count": null,
   "metadata": {},
   "outputs": [],
   "source": [
    "* merge with relevant UPCs to reduce necessary cleaning\n",
    "\n",
    "use $temp_data/nutrition.dta, clear \n",
    "\n",
    "* drop check digit from upc and coerce to numeric\n",
    "replace upc = substr(upc, 1, length(upc) - 1)\n",
    "destring upc, replace\n",
    "\n",
    "/* after throughly checking the data, negative signs in front of nutrient\n",
    "quantities are unintentional. */\n",
    "* remove the negative signs\n",
    "replace quantity = -1*quantity if quantity < 0\n",
    "replace pct = -1*pct if pct < 0\n",
    "\n",
    "* drop if missing quantity\n",
    "drop if mi(quantity)\n",
    "\n",
    "* merge with Nielsen product upcs from above\n",
    "merge m:1 upc using $temp_data/unique_purchased_upcs_1619.dta, keep(2 3)\n",
    "\n",
    "* save unmatched relevant products for later imputation\n",
    "preserve\n",
    "keep if _m == 2\n",
    "keep upc\n",
    "save $temp_data/unique_purchased_upcs_tobeimputed_1619.dta, replace\n",
    "restore\n",
    "\n",
    "* proceed with matching upcs only\n",
    "keep if _m == 3\n",
    "drop _m"
   ]
  },
  {
   "cell_type": "code",
   "execution_count": null,
   "metadata": {},
   "outputs": [],
   "source": [
    "* rename nutrient labels\n",
    "replace nutrient = subinstr(nutrient, \" \", \"\", .)\n",
    "replace nutrient = lower(nutrient)\n",
    "replace nutrient = \"fiber\" if nutrient == \"dietaryfiber\"\n",
    "replace nutrient = \"carbs\" if nutrient == \"totalcarbohydrate\"\n",
    "replace nutrient = \"satfat\" if nutrient == \"saturatedfat\"\n",
    "replace nutrient = \"fat\" if nutrient == \"totalfat\"\n",
    "\n",
    "tab nutrient"
   ]
  },
  {
   "cell_type": "code",
   "execution_count": null,
   "metadata": {},
   "outputs": [],
   "source": [
    "* fix uom errors - all corrections were manually checked after looking up the products online\n",
    "tab uom\n",
    "replace uom = \"g\" if inlist(uom, \"0\", \"4\", \"G\", \"Null\", \"g \", \"g0\", \"gf\", \"m\")\n",
    "replace quantity = 13 if uom == \"4g\"\n",
    "replace uom = \"g\" if uom == \"4g\"\n",
    "replace quantity = 0.4 if uom == \"9\"\n",
    "replace uom = \"g\" if uom == \"9\"\n",
    "replace quantity = 14 if uom == \"oz\" & quantity == .48\n",
    "replace uom = \"g\" if uom == \"oz\"\n",
    "replace quantity = 0 if uom == \"trace\"\n",
    "replace uom = \"g\" if uom == \"trace\"\n",
    "\n",
    "* put all nutrition units in grams\n",
    "replace quantity = quantity/1000 if inlist(uom, \"mg\", \"mg \", \"mEq\", \"Mg\")\n",
    "replace uom = \"g\" if inlist(uom, \"mg\", \"mg \", \"mEq\", \"Mg\")\n",
    "\n",
    "* fix absurdly high sodium\n",
    "// li itemname quantity pct if quantity > 2 & pct < 60 & nutrient == \"sodium\"\n",
    "replace quantity = quantity/1000 if quantity > 2 & pct < 60 & nutrient == \"sodium\"\n",
    "\n",
    "tab uom\n",
    "\n",
    "* those missing uom are calories, calories from fat, 0, or grams without label"
   ]
  },
  {
   "cell_type": "code",
   "execution_count": null,
   "metadata": {},
   "outputs": [],
   "source": [
    "* use pct flag to check other nutrients\n",
    "* check pct against FDA's DRV for macros\n",
    "program gen_pctcheck\n",
    "    capture drop pctcheck\n",
    "    gen pctcheck = quantity/2.75 if nutrient == \"carbs\" \n",
    "    replace pctcheck = quantity/.03 if nutrient == \"cholesterol\" \n",
    "    replace pctcheck = quantity/.78 if nutrient == \"fat\"\n",
    "    replace pctcheck = quantity/.28 if nutrient == \"fiber\"\n",
    "    replace pctcheck = quantity/.50 if nutrient == \"protein\"\n",
    "    replace pctcheck = quantity/.20 if nutrient == \"satfat\"\n",
    "    replace pctcheck = quantity/.023 if nutrient == \"sodium\"\n",
    "    replace pctcheck = quantity/.50 if nutrient == \"sugars\"\n",
    "    end\n",
    "\n",
    "gen_pctcheck"
   ]
  },
  {
   "cell_type": "code",
   "execution_count": null,
   "metadata": {},
   "outputs": [],
   "source": [
    "* get nutrition info for products whose pct are wildly off\n",
    "\n",
    "preserve\n",
    "keep if !mi(pctcheck, pct) & pctcheck/10 > pct & pct > 0\n",
    "unique upc\n",
    "export excel $temp_data/uom_needs_corrections_202103.xlsx, firstrow(var) replace\n",
    "restore"
   ]
  },
  {
   "cell_type": "code",
   "execution_count": null,
   "metadata": {},
   "outputs": [],
   "source": [
    "* append corrected data\n",
    "\n",
    "drop if !mi(pctcheck, pct) & pctcheck/10 > pct & pct > 0\n",
    "preserve\n",
    "import excel $temp_data/uom_corrections.xlsx, firstrow clear\n",
    "tempfile temp\n",
    "qui save `temp'\n",
    "restore\n",
    "append using `temp'"
   ]
  },
  {
   "cell_type": "code",
   "execution_count": null,
   "metadata": {},
   "outputs": [],
   "source": [
    "* check nutrition info for products with high percent RDV\n",
    "\n",
    "gen_pctcheck\n",
    "\n",
    "preserve\n",
    "keep if pctcheck > 100 & !mi(pctcheck)\n",
    "unique upc\n",
    "tab nutrient\n",
    "sort nutrient pctcheck\n",
    "export excel $temp_data/uom_needs_checking.xlsx, firstrow(var) replace\n",
    "restore"
   ]
  },
  {
   "cell_type": "code",
   "execution_count": null,
   "metadata": {},
   "outputs": [],
   "source": [
    "* append corrected data\n",
    "\n",
    "drop if pctcheck > 100 & !mi(pctcheck)\n",
    "preserve\n",
    "import excel $temp_data/uom_needs_checking_corrected.xlsx, firstrow clear\n",
    "tempfile temp\n",
    "qui save `temp'\n",
    "restore\n",
    "append using `temp'"
   ]
  },
  {
   "cell_type": "code",
   "execution_count": null,
   "metadata": {},
   "outputs": [],
   "source": [
    "* delete duplicate entries\n",
    "* This can happen if products have nutrition facts for multiple serving sizes,\n",
    "*  e.g. regular serving size and 100g\n",
    "* We only need one of the two to get total grams.\n",
    "\n",
    "bys upc nutrient: gen N = _N\n",
    "preserve\n",
    "keep if N > 1\n",
    "drop N\n",
    "sort upc description itemsize itemmeasure productweight servingsizetext servingsizeuom nutrient quantity\n",
    "export excel $temp_data/uom_duplicates_202103.xlsx, firstrow(var) replace\n",
    "restore\n",
    "\n",
    "// drop if N > 1\n",
    "preserve\n",
    "import excel $temp_data/uom_duplicates_corrected.xlsx, firstrow clear\n",
    "tempfile temp\n",
    "qui save `temp'\n",
    "restore\n",
    "//drop N\n",
    "append using `temp', force"
   ]
  },
  {
   "cell_type": "code",
   "execution_count": null,
   "metadata": {},
   "outputs": [],
   "source": [
    "* Clean servings per container\n",
    "\n",
    "// sort upc servingspercontainer\n",
    "// by upc: gen spc2 = servingspercontainer[_N]\n",
    "// replace servingspercontainer = spc2 if mi(servingspercontainer)\n",
    "\n",
    "preserve\n",
    "keep servingspercontainer\n",
    "bys servingspercontainer: keep if _n == 1\n",
    "export excel $temp_data/spc_unique.xlsx, firstrow(var) replace\n",
    "restore\n",
    "\n",
    "* merge corrections\n",
    "\n",
    "preserve\n",
    "import excel $temp_data/spc_unique_corrected.xlsx, firstrow clear\n",
    "tempfile temp\n",
    "qui save `temp'\n",
    "restore\n",
    "\n",
    "merge m:1 servingspercontainer using `temp', nogen keep(1 3)\n",
    "drop servingspercontainer\n",
    "replace spc = . if spc == 0"
   ]
  },
  {
   "cell_type": "markdown",
   "metadata": {},
   "source": [
    "### Reshape wide\n",
    "Save data at the upc level instead of upc-nutrient"
   ]
  },
  {
   "cell_type": "code",
   "execution_count": null,
   "metadata": {},
   "outputs": [],
   "source": [
    "restore\n",
    "preserve"
   ]
  },
  {
   "cell_type": "code",
   "execution_count": null,
   "metadata": {},
   "outputs": [],
   "source": [
    "* check uniqueness\n",
    "unique upc nutrient\n",
    "\n",
    "// * drop unnecessary vars\n",
    "drop uom addeditem pct* N\n",
    "\n",
    "// * rename quantity to grams\n",
    "rename quantity grams"
   ]
  },
  {
   "cell_type": "code",
   "execution_count": null,
   "metadata": {
    "scrolled": true
   },
   "outputs": [],
   "source": [
    "* fix non-uniqueness within UPC\n",
    "\n",
    "bys upc: gen N = _N\n",
    "bys upc productweight: gen needs_fix = _N < N\n",
    "foreach v in servingsizetext servingsizeuom spc {\n",
    "    bys upc `v': replace needs_fix = _N < N if needs_fix == 0\n",
    "}\n",
    "\n",
    "tab needs_fix\n",
    "\n",
    "replace productweight = 293.8 if needs_fix & N == 6\n",
    "replace servingsizetext = \"1\" if needs_fix & N == 6\n",
    "replace servingsizeuom = \"can\" if needs_fix & N == 6\n",
    "replace spc = 7 if needs_fix & N == 11"
   ]
  },
  {
   "cell_type": "code",
   "execution_count": null,
   "metadata": {},
   "outputs": [],
   "source": [
    "drop N needs_fix\n",
    "\n",
    "* reshape\n",
    "reshape wide @grams, i(upc) j(nutrient, string)\n",
    "rename (caloriesgrams caloriesfromfatgrams sugarsgrams) (calories caloriesfromfat sugargrams)"
   ]
  },
  {
   "cell_type": "code",
   "execution_count": null,
   "metadata": {},
   "outputs": [],
   "source": [
    "desc"
   ]
  },
  {
   "cell_type": "code",
   "execution_count": null,
   "metadata": {},
   "outputs": [],
   "source": [
    "* save data\n",
    "save $temp_data/unique_upc_nutrients_202103.dta, replace"
   ]
  },
  {
   "cell_type": "markdown",
   "metadata": {},
   "source": [
    "## Impute data for missings\n",
    "\n",
    "The imputation process is as follows (similar to Dubois, Griffith, and Nevo (2014) AER):\n",
    "1. Direct UPC match\n",
    "2. Impute within same product module, size type, product, brand, flavor, variety, type, formula, and style\n",
    "3. Loosen brand restriction\n",
    "4. Loosen flavor, variety, type, formula, style restrictions\n",
    "5. Loosen product restriction\n",
    "6. Manually impute "
   ]
  },
  {
   "cell_type": "code",
   "execution_count": null,
   "metadata": {},
   "outputs": [],
   "source": [
    "/*\n",
    "UPCs with Nielsen product descriptors: $raw_data/hms/master/products.tsv\n",
    "UPCs purchased: $temp_data/unique_purchased_upcs_1619.dta\n",
    "UPCs with nutrition: $temp_data/unique_upc_nutrients_202103.dta\n",
    "UPCs relevant: $temp_data/relevant_food_products_1619.dta\n",
    "\n",
    "Strategy:\n",
    "- Start with products.tsv\n",
    "- keep purchased UPCs\n",
    "- merge nutrient matches\n",
    "- keep matches and unmatched-relevant \n",
    "- impute\n",
    "- drop irrelevant matches\n",
    "\n",
    "*/\n",
    "\n",
    "clear\n",
    "import delimited \"$raw_data/hms/master/products.tsv\", varnames(1) bindquote(nobind)\n",
    "\n",
    "* keep only one copy of each product\n",
    "bys upc: keep if upc_ver_uc == 1\n",
    "drop upc_ver_uc\n",
    "\n",
    "* keep only relevant UPCs\n",
    "merge 1:1 upc using $temp_data/unique_purchased_upcs_1619.dta, keep(3) nogen\n",
    "\n",
    "\n",
    "// * keep only necessary variables\n",
    "// keep upc upc_ver_uc product_module_code product_group_code department_code ///\n",
    "//     brand_code_uc multi size1_code_uc size1_amount size1_units ///\n",
    "//     upc_desc brand_desc product_module_desc product_group_desc department_desc\n",
    "// * TODO: drop desc vars\n",
    "\n",
    "* merge nutrient matches\n",
    "merge 1:1 upc using $temp_data/unique_upc_nutrients_202103.dta\n",
    "gen has_nutrition = _m == 3 \n",
    "assert _m != 2  // shouldn't have any _m == 2\n",
    "drop _m\n",
    "\n",
    "* merge relevant UPCs, keep relevant or has_nutrition\n",
    "merge 1:1 upc using $temp_data/relevant_food_products_1619.dta\n",
    "assert _m != 2  // shouldn't have any _m == 2\n",
    "gen relevant = _m == 3\n",
    "keep if has_nutrition | relevant\n",
    "drop _m"
   ]
  },
  {
   "cell_type": "code",
   "execution_count": null,
   "metadata": {},
   "outputs": [],
   "source": [
    "* clean up vars\n",
    "\n",
    "* drop if RMS only \n",
    "drop if dataset_found_uc == \"RMS\"\n",
    "drop dataset_found_uc\n",
    "\n",
    "* store brand identifier\n",
    "gen storebrand = regexm(upc_descr, \"CTL BR\")\n",
    "replace storebrand = regexm(brand_descr, \"CTL BR\") if storebrand == 0\n",
    "tab has_nutrition storebrand, col\n",
    "\n",
    "* drop if not food (but kept becuase has_nutrition)\n",
    "drop if inlist(department_code, 0, 7, 8, 9)\n",
    "\n",
    "* drop reference card (see todos below):\n",
    "drop if department_code == 99\n",
    "drop if regexm(product_module_descr, \"REFERENCE CARD\")\n",
    "drop if regexm(product_module_descr, \"RBC\")\n",
    "\n",
    "* drop nonfood product groups\n",
    "drop if inlist(product_group_descr, \"ICE\", \"PET FOOD\")\n",
    "\n",
    "* TODO: later, keep reference card goods to look at intensive margin\n",
    "* TODO: keep alcohol and look at effects on extensive and intensive margins"
   ]
  },
  {
   "cell_type": "code",
   "execution_count": null,
   "metadata": {},
   "outputs": [],
   "source": [
    "tab department_descr has_nutrition, row"
   ]
  },
  {
   "cell_type": "code",
   "execution_count": null,
   "metadata": {},
   "outputs": [],
   "source": [
    "tab product_group_descr has_nutrition"
   ]
  },
  {
   "cell_type": "code",
   "execution_count": null,
   "metadata": {},
   "outputs": [],
   "source": [
    "tab product_module_descr has_nutrition if product_group_descr == \"FRESH PRODUCE\"\n",
    "\n",
    "* TODO: map USDA data to produce "
   ]
  },
  {
   "cell_type": "markdown",
   "metadata": {},
   "source": [
    "### Merge products extra\n",
    "\n",
    "We need the flavor code, etc. for imputing"
   ]
  },
  {
   "cell_type": "code",
   "execution_count": null,
   "metadata": {},
   "outputs": [],
   "source": [
    "preserve"
   ]
  },
  {
   "cell_type": "code",
   "execution_count": null,
   "metadata": {},
   "outputs": [],
   "source": [
    "* Loop over each year, keep most recent variant, and only if in list of upcs\n",
    "\n",
    "tempfile temp\n",
    "\n",
    "forvalues year = 2016/2019 {\n",
    "    import delimited \"$raw_data/hms/`year'/products_extra_`year'.tsv\", varnames(1) clear\n",
    "    keep if upc_ver_uc == 1\n",
    "    keep upc panel_year product* flavor* variety* type* formula* style* form*\n",
    "    if `year' != 2016 { \n",
    "        append using `temp'\n",
    "    }\n",
    "    qui save `temp', replace \n",
    "}\n",
    "\n",
    "save $temp_data/products_extra_1619.dta, replace"
   ]
  },
  {
   "cell_type": "code",
   "execution_count": null,
   "metadata": {},
   "outputs": [],
   "source": [
    "* keep most recent upc\n",
    "\n",
    "use $temp_data/products_extra_1619.dta, clear\n",
    "\n",
    "* most most recent year\n",
    "sort upc panel_year\n",
    "by upc: keep if _n == _N\n",
    "unique upc\n",
    "\n",
    "* merge with preserved UPCs\n",
    "tempfile temp\n",
    "qui save `temp'\n",
    "restore\n",
    "merge 1:1 upc using `temp', keep(1 3) nogen"
   ]
  },
  {
   "cell_type": "code",
   "execution_count": null,
   "metadata": {},
   "outputs": [],
   "source": [
    "* clean vars\n",
    "\n",
    "* rename vars we'll reference often\n",
    "rename brand brand_syn\n",
    "rename (product_module_code size1_units product_code brand_code_uc flavor_code variety_code ///\n",
    "        type_code formula_code style_code) ///\n",
    "    (pm size product brand flavor variety type formula style)\n",
    "\n",
    "foreach v in product flavor variety type formula style {\n",
    "    replace `v' = . if inlist(`v'_descr, \"NOT STATED\", ///\n",
    "        \"NOT APPLICABLE\", \"NA\", \"N/A\")\n",
    "}"
   ]
  },
  {
   "cell_type": "markdown",
   "metadata": {},
   "source": [
    "### Impute\n",
    "\n",
    "`impute`:\n",
    "- 0 = not yet imputed\n",
    "- 1 = direct match\n",
    "- 2 = same PM, brand, etc.\n",
    "- etc. from above\n"
   ]
  },
  {
   "cell_type": "code",
   "execution_count": null,
   "metadata": {},
   "outputs": [],
   "source": [
    "* Impute = 1 -> direct match\n",
    "\n",
    "gen imputed = has_nutrition"
   ]
  },
  {
   "cell_type": "code",
   "execution_count": null,
   "metadata": {},
   "outputs": [],
   "source": [
    "* impute function\n",
    "\n",
    "capture program drop impute_byid\n",
    "program define impute_byid\n",
    "    args id round\n",
    "\n",
    "    * calculate mean serving ratio within group\n",
    "    capture drop servingratio meanservingratio\n",
    "    gen servingratio = spc / size1_amount\n",
    "    bys `id': egen meanservingratio = mean(servingratio)\n",
    "\n",
    "    * impute each nutrient within group\n",
    "    local nutrients calories caloriesfromfat carbs fat fiber protein ///\n",
    "        satfat sodium sugar transfat\n",
    "    foreach nt of varlist `nutrients' {\n",
    "        di \"Imputing `nt'...\"\n",
    "        qui bysort `id': egen meannt = mean(`nt')\n",
    "        qui replace imputed = `round' if mi(`nt') & !mi(meannt) & imputed == 0\n",
    "        replace `nt' = meannt if mi(`nt') & !mi(meannt)\n",
    "        drop meannt\n",
    "    }\n",
    "\n",
    "    * impute servings per container\n",
    "    replace spc = meanservingratio * size1_amount if imputed == `round'\n",
    "\n",
    "    end"
   ]
  },
  {
   "cell_type": "code",
   "execution_count": null,
   "metadata": {},
   "outputs": [],
   "source": [
    "* Impute = 2: within pm, size type, brand, product, flavor, etc.\n",
    "\n",
    "capture drop groupid\n",
    "egen groupid = group(pm size product brand flavor variety type formula style), missing\n",
    "\n",
    "impute_byid groupid 2"
   ]
  },
  {
   "cell_type": "code",
   "execution_count": null,
   "metadata": {},
   "outputs": [],
   "source": [
    "* Impute = 3: relax brand\n",
    "\n",
    "capture drop groupid\n",
    "egen groupid = group(pm size product flavor variety type formula style), missing\n",
    "\n",
    "impute_byid groupid 3"
   ]
  },
  {
   "cell_type": "code",
   "execution_count": null,
   "metadata": {},
   "outputs": [],
   "source": [
    "* Impute = 4: relax flavor, variety, ...\n",
    "\n",
    "capture drop groupid\n",
    "egen groupid = group(pm size product), missing\n",
    "\n",
    "impute_byid groupid 4"
   ]
  },
  {
   "cell_type": "code",
   "execution_count": null,
   "metadata": {},
   "outputs": [],
   "source": [
    "* Impute = 5: product\n",
    "\n",
    "capture drop groupid\n",
    "egen groupid = group(pm size), missing\n",
    "\n",
    "impute_byid groupid 5"
   ]
  },
  {
   "cell_type": "code",
   "execution_count": null,
   "metadata": {},
   "outputs": [],
   "source": [
    "tab imputed"
   ]
  },
  {
   "cell_type": "code",
   "execution_count": null,
   "metadata": {},
   "outputs": [],
   "source": [
    "* save imputed nutrition data\n",
    "save $temp_data/imputed_nutrition_1619.dta, replace"
   ]
  },
  {
   "cell_type": "code",
   "execution_count": null,
   "metadata": {},
   "outputs": [],
   "source": [
    "use $temp_data/imputed_nutrition_1619.dta, clear"
   ]
  },
  {
   "cell_type": "code",
   "execution_count": null,
   "metadata": {},
   "outputs": [],
   "source": [
    "* export products missing any nutrition to csv for manual impute\n",
    "\n",
    "capture restore\n",
    "preserve\n",
    "\n",
    "capture drop temp\n",
    "gen temp = mi(calories, caloriesfromfat, carbs, fat, fiber, protein, ///\n",
    "        satfat, sodium, sugar, transfat)\n",
    "tab temp\n",
    "\n",
    "keep if temp\n",
    "export excel $temp_data/nutrient_manual_impute.xlsx, firstrow(var) replace\n",
    "\n",
    "restore"
   ]
  },
  {
   "cell_type": "code",
   "execution_count": null,
   "metadata": {},
   "outputs": [],
   "source": [
    "/* bring back manually imputed data\n",
    "Had to remove:\n",
    "- Nonfood\n",
    "- Generic food kits without descriptors\n",
    "- Gift packages that have candy in them\n",
    "*/\n",
    "\n",
    "drop if mi(calories, caloriesfromfat, carbs, fat, fiber, protein, ///\n",
    "        satfat, sodium, sugar, transfat)\n",
    "capture restore\n",
    "preserve\n",
    "tempfile temp\n",
    "import excel $temp_data/nutrient_manual_impute_corrected.xlsx, firstrow clear\n",
    "qui save `temp'\n",
    "restore\n",
    "append using `temp'"
   ]
  },
  {
   "cell_type": "code",
   "execution_count": null,
   "metadata": {},
   "outputs": [],
   "source": [
    "* update imputed nutrition data\n",
    "//save $temp_data/imputed_nutrition_1619.dta, replace"
   ]
  },
  {
   "cell_type": "markdown",
   "metadata": {},
   "source": [
    "##  Nutrients per month"
   ]
  },
  {
   "cell_type": "markdown",
   "metadata": {},
   "source": [
    "In this section, we do the following:\n",
    "1. Divide the panel into batches\n",
    "2. Load trips for a given batch, merging on household_cd (9.4M lines/year)\n",
    "3. Merge purchases on trip_code_uc (64M lines/year)\n",
    "4. Merge nutrition on UPC\n",
    "5. Keep relevant nutrition variables\n",
    "6. Collapse to trip level, taking sums over nutrition\n",
    "7. Save batch and repeat"
   ]
  },
  {
   "cell_type": "code",
   "execution_count": null,
   "metadata": {},
   "outputs": [],
   "source": [
    "* create a frame for nutrition\n",
    "\n",
    "cwf default\n",
    "capture frame drop nutrition\n",
    "frame create nutrition\n",
    "cwf nutrition\n",
    "use $temp_data/imputed_nutrition_1619.dta\n",
    "\n",
    "* keep only necessary vars\n",
    "keep upc multi calories-transfatgrams imputed storebrand\n",
    "\n",
    "frames dir"
   ]
  },
  {
   "cell_type": "code",
   "execution_count": null,
   "metadata": {},
   "outputs": [],
   "source": [
    "* create a frame for products\n",
    "\n",
    "cwf default\n",
    "capture frame drop products\n",
    "frame create products\n",
    "cwf products\n",
    "import delimited $raw_data/hms/master/products.tsv, varnames(1) bindquote(nobind) clear\n",
    "\n",
    "* keep only necessary obs\n",
    "keep if inlist(department_code, 1, 2, 3, 8)\n",
    "keep if upc_ver_uc == 1\n",
    "\n",
    "* keep only necessary cols\n",
    "keep upc multi department_desc product_group_desc product_module_descr size1_amount size1_units\n",
    "\n",
    "* gen volumes for certain product properties\n",
    "gen oz_alcohol = size1_amount if department_desc == \"ALCOHOLIC BEVERAGES\" & size1_units == \"OZ\"\n",
    "replace oz_alcohol = size1_amount * 33.814 if mi(oz_alcohol) & ///\n",
    "     department_desc == \"ALCOHOLIC BEVERAGES\" & size1_units == \"LI\"\n",
    "replace oz_alcohol = size1_amount * 0.033814 if mi(oz_alcohol) & ///\n",
    "     department_desc == \"ALCOHOLIC BEVERAGES\" & size1_units == \"ML\"\n",
    "gen oz_coffee_fluid = size1_amount if product_module_desc == \"COFFEE - LIQUID\" & size1_units == \"OZ\"\n",
    "gen oz_coffee_solid = size1_amount if size1_units == \"OZ\" & product_module_desc == \"GROUND AND WHOLE BEAN COFFEE\"\n",
    "gen oz_frozen_juice = size1_amount if product_group_desc == \"JUICES, DRINKS-FROZEN\" & size1_units == \"OZ\"\n",
    "gen oz_fruit_punch = size1_amount if product_module_desc == \"FRUIT PUNCH BASES & SYRUPS\" & size1_units == \"OZ\"\n",
    "gen oz_milk = size1_amount if size1_units == \"OZ\" & ///\n",
    "    inlist(product_module_desc, \"DAIRY-MILK-REFRIGERATED\", \"DAIRY-FLAVORED MILK-REFRIGERATED\")\n",
    "gen oz_soda_diet = size1_amount if size1_units == \"OZ\" & product_module_desc == \"SOFT DRINKS - LOW CALORIE\"\n",
    "gen oz_soda_regular = size1_amount if size1_units == \"OZ\" & product_module_desc == \"SOFT DRINKS - CARBONATED\"\n",
    "gen oz_soda_syrup = size1_amount if size1_units == \"OZ\" & product_module_desc == \"FOUNTAIN BEVERAGE SYRUP\"\n",
    "gen oz_tea_liquid = size1_amount if size1_units == \"OZ\" & product_module_desc == \"TEA - LIQUID\"\n",
    "gen oz_water_bottled = size1_amount if size1_units == \"OZ\" & product_module_desc == \"WATER-BOTTLED\"\n",
    "\n",
    "* powdered soft drinks measured in different units\n",
    "gen oz_soft_drinks_powder = size1_amount * 32 if size1_units == \"QT\" & product_module_desc == \"SOFT DRINKS - POWDERED\"\n",
    "\n",
    "* drop superfluous vars\n",
    "drop department_desc product_group_desc product_module_descr size1_amount size1_units\n",
    "gen dontdrop = 0\n",
    "foreach v of varlist oz_alcohol-oz_soft_drinks_powder {\n",
    "    replace dontdrop = 1 if !mi(`v')\n",
    "}\n",
    "keep if dontdrop\n",
    "drop dontdrop\n",
    "\n",
    "* rename mutli for merge\n",
    "rename multi multi2"
   ]
  },
  {
   "cell_type": "code",
   "execution_count": null,
   "metadata": {},
   "outputs": [],
   "source": [
    "* write function to iteratively merge nutrition on purchases\n",
    "\n",
    "capture program drop agg_batch\n",
    "program agg_batch\n",
    "    args batch_name\n",
    "\n",
    "    * get batchsize\n",
    "    cwf trips\n",
    "    qui sum trip_code_uc\n",
    "    local batchsize = ceil(r(N) / 10)\n",
    "    local topmax = r(N)\n",
    "\n",
    "    * loop over batches\n",
    "    forvalues b = 1/10 {\n",
    "        \n",
    "        di \"Batch #`b'...\"\n",
    "        local bottom = 1 + (`b' - 1) * `batchsize'\n",
    "        local top = min(`b' * `batchsize', `topmax')\n",
    "        \n",
    "        * keep subset of trips\n",
    "        cwf default\n",
    "        capture frame drop trips_sub\n",
    "        frame copy trips trips_sub\n",
    "        cwf trips_sub\n",
    "        keep in `bottom'/`top'\n",
    "                \n",
    "        * copy nutrition, keep subset\n",
    "        capture frame drop purchases_sub\n",
    "        frame copy purchases purchases_sub\n",
    "        cwf purchases_sub\n",
    "        frlink m:1 trip_code_uc, frame(trips_sub)\n",
    "        frget household_code, from (trips_sub)\n",
    "        keep if !mi(household_code)\n",
    "        \n",
    "        * merge nutrition\n",
    "        frlink m:1 upc, frame(nutrition)\n",
    "        frget *, from(nutrition)\n",
    "        \n",
    "        * merge products\n",
    "        frlink m:1 upc, frame(products)\n",
    "        frget *, from(products)\n",
    "        replace multi = multi2 if mi(multi)\n",
    "        drop multi2\n",
    "    \n",
    "        * generate additional vars\n",
    "        gen items_scanned = 1 * quantity\n",
    "        gen items_food = !mi(impute) * quantity\n",
    "        gen items_coupons = coupon_value > 0 * quantity\n",
    "        gen final_price_paid = total_price_paid - coupon_value\n",
    "        gen final_price_paid_food = final_price_paid * (items_food > 0)\n",
    "        rename coupon_value coupons_amount_saved\n",
    "        rename deal_flag items_deals\n",
    "        rename storebrand items_storebrand\n",
    "        replace items_deals = items_deals * quantity\n",
    "        replace items_storebrand = items_storebrand * quantity\n",
    "        \n",
    "        * add grams of sugar per product type\n",
    "        gen beverage = 0\n",
    "        local namelist = \"coffee_fluid coffee_solid frozen_juice fruit_punch milk soda_diet soda_regular soda_syrup tea_liquid soft_drinks_powder\"\n",
    "        foreach n in `namelist' {\n",
    "            qui gen sugar_`n' = (oz_`n' > 0) * sugargrams\n",
    "            qui replace beverage = 1 if oz_`n' > 0\n",
    "        }\n",
    "        qui gen sugar_nonbeverage = sugargrams * (1 - beverage)\n",
    "        \n",
    "        * Prepare vars for collapsing\n",
    "        * multiply relevant vars by quantity\n",
    "        foreach var of varlist calories-transfatgrams oz_alcohol-oz_soft_drinks_powder sugar_* {\n",
    "            qui replace `var' = `var' * multi * quantity\n",
    "        }\n",
    "        \n",
    "        * imputed\n",
    "        forvalues i = 0/5 {\n",
    "            gen imputed`i' = (imputed == `i') * quantity\n",
    "        }\n",
    "\n",
    "        * keep relevant vars\n",
    "        local collapsevars items_* final_price_paid* ///\n",
    "            coupons_amount_saved imputed* ///\n",
    "            calories-transfatgrams oz_alcohol-oz_soft_drinks_powder sugar_*\n",
    "        keep household_code trip_code_uc `collapsevars'\n",
    "        drop imputed\n",
    "        \n",
    "        * Next, collapse to trip-level taking sums\n",
    "        collapse (sum) `collapsevars', by(household_code trip_code_uc)\n",
    "        \n",
    "        * Save data\n",
    "        save $temp_data/`batch_name'_`b'.dta, replace\n",
    "    }\n",
    "\n",
    "    * append across batches\n",
    "    * current batch is 10\n",
    "    di \"Appending all batches...\"\n",
    "    forvalues b = 1/9 {\n",
    "        append using $temp_data/`batch_name'_`b'.dta\n",
    "    }\n",
    "\n",
    "    save $gen_data/`batch_name'.dta, replace\n",
    "    \n",
    "    end"
   ]
  },
  {
   "cell_type": "code",
   "execution_count": null,
   "metadata": {
    "scrolled": true
   },
   "outputs": [],
   "source": [
    "* loop over years\n",
    "\n",
    "forvalues year = 2016/2019 {\n",
    "    \n",
    "    di \"Getting data for year = `year'...\"\n",
    "    \n",
    "    * trips frame\n",
    "    cwf default\n",
    "    capture frame drop trips\n",
    "    frame create trips\n",
    "    cwf trips\n",
    "    import delimited \"$raw_data/hms/`year'/trips_`year'.tsv\", varnames(1)\n",
    "    \n",
    "    * purchases frame\n",
    "    capture frame drop purchases\n",
    "    frame create purchases\n",
    "    cwf purchases\n",
    "    import delimited \"$raw_data/hms/`year'/purchases_`year'.tsv\", varnames(1) clear\n",
    "    drop upc_ver_uc\n",
    "    \n",
    "    * run agg function\n",
    "    agg_batch nutrition_trips_`year'\n",
    "\n",
    "}"
   ]
  },
  {
   "cell_type": "code",
   "execution_count": null,
   "metadata": {},
   "outputs": [],
   "source": [
    "unique household_code"
   ]
  },
  {
   "cell_type": "code",
   "execution_count": null,
   "metadata": {},
   "outputs": [],
   "source": [
    "unique trip_code_uc"
   ]
  },
  {
   "cell_type": "code",
   "execution_count": null,
   "metadata": {},
   "outputs": [],
   "source": [
    "sum"
   ]
  },
  {
   "cell_type": "markdown",
   "metadata": {},
   "source": [
    "## Collapse to household-month level"
   ]
  },
  {
   "cell_type": "code",
   "execution_count": null,
   "metadata": {},
   "outputs": [],
   "source": [
    "* Define function to collapse to trip level\n",
    "\n",
    "capture program drop collapse_trip\n",
    "program collapse trip\n",
    "    args year\n",
    "    \n",
    "    * import trips-nutrition\n",
    "    cwf default\n",
    "    use $gen_data/nutrition_trips_`year'.dta, clear\n",
    "\n",
    "    * merge trips\n",
    "    capture frame drop trips\n",
    "    frame create trips\n",
    "    cwf trips\n",
    "    import delimited \"$raw_data/hms/`year'/trips_`year'.tsv\", varnames(1)\n",
    "    * TODO keep store_zip3, method_of_payment_cd\n",
    "    * TODO add indicator for treated store\n",
    "    * TODO anything with method of payment? Perhaps SNAP indicator\n",
    "    keep trip_code_uc purchase_date total_spent\n",
    "    cwf default\n",
    "    frlink m:1 trip_code_uc, frame(trips)\n",
    "    frget *, frame(trips)\n",
    "\n",
    "    * gen month indicator\n",
    "    gen date = date(purchase_date, \"YMD\")\n",
    "    format %td date\n",
    "    gen month = month(date)\n",
    "    gen year = year(date)\n",
    "\n",
    "    * drop vars that do not remain constant\n",
    "    drop date purchase_date date trip_code_uc trips store_zip3 method_of_payment_cd\n",
    "\n",
    "    * gen count var for shopping trips\n",
    "    gen trips = 1\n",
    "\n",
    "    * collapse taking sums\n",
    "    di \"Collapsing...\"\n",
    "    gcollapse (sum) items_deals-sugar_nonbeverage trips total_spent, by(household_code year month)\n",
    "\n",
    "    * save output\n",
    "    save $temp_data/\n",
    "\n",
    "    end"
   ]
  },
  {
   "cell_type": "code",
   "execution_count": null,
   "metadata": {},
   "outputs": [],
   "source": []
  },
  {
   "cell_type": "markdown",
   "metadata": {},
   "source": [
    "### Import trip-nutrition data"
   ]
  },
  {
   "cell_type": "code",
   "execution_count": null,
   "metadata": {},
   "outputs": [],
   "source": [
    "* Import trips data containing nutrition per trip\n",
    "\n",
    "cwf default\n",
    "use $gen_data/nutrition_trips_2016.dta, clear\n",
    "forvalues year = 2017/2019 {\n",
    "    append using $gen_data/nutrition_trips_`year'.dta\n",
    "}\n",
    "\n",
    "// sum"
   ]
  },
  {
   "cell_type": "code",
   "execution_count": null,
   "metadata": {},
   "outputs": [],
   "source": [
    "* Merge trips (to get purchase_date, store_zip3, total_spent, method_of_payment_cd)\n",
    "\n",
    "capture frame drop trips\n",
    "frame create trips\n",
    "cwf trips\n",
    "\n",
    "forvalues year = 2016/2019 {\n",
    "    preserve\n",
    "    clear\n",
    "    import delimited \"$raw_data/hms/`year'/trips_`year'.tsv\", varnames(1)\n",
    "    tempfile temp\n",
    "    qui save `temp'\n",
    "    restore\n",
    "    append using `temp'\n",
    "}\n",
    "\n",
    "keep trip_code_uc purchase_date store_zip3 total_spent method_of_payment_cd\n",
    "\n",
    "// sum"
   ]
  },
  {
   "cell_type": "code",
   "execution_count": null,
   "metadata": {},
   "outputs": [],
   "source": [
    "* link trips to purchases and copy relevant trips info\n",
    "\n",
    "cwf default\n",
    "frlink 1:1 trip_code_uc, frame(trips)\n",
    "frget purchase_date store_zip3 total_spent method_of_payment_cd, from(trips)\n",
    "\n",
    "save $gen_data/nutrition_trips_all.dta, replace"
   ]
  },
  {
   "cell_type": "markdown",
   "metadata": {},
   "source": [
    "### Get panelists' treatment statuses"
   ]
  },
  {
   "cell_type": "code",
   "execution_count": null,
   "metadata": {},
   "outputs": [],
   "source": [
    "* merge panelists on trips\n",
    "\n",
    "* switch frames\n",
    "cwf default\n",
    "\n",
    "* get year\n",
    "gen date = date(purchase_date, \"YMD\")\n",
    "format %td date\n",
    "gen year = year(date)\n",
    "\n",
    "* link panelists\n",
    "frlink m:1 household_code year, frame(panelists)\n",
    "frget projection_factor panelist_zipcd dma_cd fips_state_cd fips_county_cd, from(panelists)\n",
    "sum\n",
    "\n",
    "* save subset\n",
    "save $gen_data/panelist_nutrition_trips_dma, replace"
   ]
  },
  {
   "cell_type": "code",
   "execution_count": null,
   "metadata": {},
   "outputs": [],
   "source": [
    "* merge panelists on trips\n",
    "\n",
    "* save panelists as temporary data\n",
    "cwf panelists\n",
    "tempfile temp\n",
    "qui save `temp'\n",
    "\n",
    "* switch frames\n",
    "cwf default\n",
    "\n",
    "* get year\n",
    "gen date = date(purchase_date, \"YMD\")\n",
    "format %td date\n",
    "gen year = year(date)\n",
    "\n",
    "* merge panelists\n",
    "merge m:1 household_code year using `temp', keep(3) nogen\n",
    "sum\n",
    "\n",
    "* save subset\n",
    "save $gen_data/panelist_nutrition_trips_dma, replace"
   ]
  },
  {
   "cell_type": "markdown",
   "metadata": {},
   "source": [
    "### Collapse to household-month "
   ]
  },
  {
   "cell_type": "code",
   "execution_count": null,
   "metadata": {},
   "outputs": [],
   "source": [
    "* Caution, this takes an hour or so\n",
    "\n",
    "* resume from prev\n",
    "di \"Reading data...\"\n",
    "cwf default\n",
    "use $gen_data/nutrition_trips_all.dta, clear\n",
    "\n",
    "* gen month indicator\n",
    "gen date = date(purchase_date, \"YMD\")\n",
    "format %td date\n",
    "gen month = month(date)\n",
    "gen year = year(date)\n",
    "\n",
    "* TODO add indicator for treated store\n",
    "* TODO anything with method of payment? Perhaps SNAP indicator\n",
    "\n",
    "* drop vars that do not remain constant\n",
    "drop date purchase_date date trip_code_uc trips store_zip3 method_of_payment_cd\n",
    "\n",
    "* gen count var for shopping trips\n",
    "gen trips = 1\n",
    "\n",
    "* collapse taking sums\n",
    "di \"Collapsing...\"\n",
    "gcollapse (sum) items_deals-sugar_nonbeverage trips total_spent, by(household_code year month)"
   ]
  },
  {
   "cell_type": "code",
   "execution_count": null,
   "metadata": {
    "scrolled": false
   },
   "outputs": [],
   "source": [
    "save $gen_data/hh_year_month.dta"
   ]
  },
  {
   "cell_type": "markdown",
   "metadata": {},
   "source": [
    "### Get panelists' treatment statuses"
   ]
  },
  {
   "cell_type": "code",
   "execution_count": null,
   "metadata": {},
   "outputs": [],
   "source": [
    "* Import raw panelists and add treatment info\n",
    "\n",
    "frame create panelists\n",
    "cwf panelists\n",
    "\n",
    "forvalues year = 2016/2019 {\n",
    "    \n",
    "    preserve\n",
    "    import delimited \"$raw_data/hms/`year'/panelists_`year'.tsv\", varnames(1) clear\n",
    "    \n",
    "    * keep only relevant vars (we'll adjust this as needed for control variables)\n",
    "    keep household_cd projection_factor panel_year panelist_zipcd dma_cd fips_state_cd fips_county_cd\n",
    "    rename household_cd household_code\n",
    "    \n",
    "    * append to tempfile\n",
    "    tempfile temp\n",
    "    qui save `temp'\n",
    "    \n",
    "    restore\n",
    "    append using `temp'\n",
    "}\n",
    "\n",
    "rename panel_year year\n",
    "unique household_code\n",
    "unique household_code year\n",
    "\n",
    "\n",
    "* get treatment identifiers\n",
    "qui do ./jupyter/insample.do\n",
    "tab year dma_treated"
   ]
  },
  {
   "cell_type": "code",
   "execution_count": null,
   "metadata": {},
   "outputs": [],
   "source": [
    "* switch frames\n",
    "cwf default\n",
    "use $temp_data/hh_year_month.dta, clear\n",
    "drop if year == 2015 // late december purchases\n",
    "\n",
    "* link panelists\n",
    "frlink m:1 household_code year, frame(panelists)\n",
    "qui frget *, from(panelists)\n",
    "\n",
    "* handle late december purchases\n",
    "replace year = year + 1 if mi(locality) // late december purchases\n",
    "drop panelists-locality\n",
    "frlink m:1 household_code year, frame(panelists)\n",
    "frget *, from(panelists)\n",
    "drop panelists\n",
    "// sum"
   ]
  },
  {
   "cell_type": "code",
   "execution_count": null,
   "metadata": {},
   "outputs": [],
   "source": [
    "* Add some additional variables\n",
    "\n",
    "gen yearmonth = year + (month - 1) / 12\n",
    "\n",
    "* treatment dates\n",
    "gen yearmonth_treat = .\n",
    "replace yearmonth_treat = 2017 + (4 - 1) / 12 if locality == \"Albany\"\n",
    "replace yearmonth_treat = 2015 + (3 - 1) / 12 if locality == \"Berkeley\"\n",
    "replace yearmonth_treat = 2017 + (7 - 1) / 12 if locality == \"Boulder\"\n",
    "replace yearmonth_treat = 2017 + (8 - 1) / 12 if locality == \"Cook\"\n",
    "replace yearmonth_treat = 2017 + (7 - 1) / 12 if locality == \"Oakland\"\n",
    "replace yearmonth_treat = 2017 + (1 - 1) / 12 if locality == \"Philly\"\n",
    "replace yearmonth_treat = 2018 + (1 - 1) / 12 if locality == \"San Francisco\"\n",
    "replace yearmonth_treat = 2018 + (1 - 1) / 12 if locality == \"Seattle\"\n",
    "\n",
    "* locality\n",
    "encode locality, gen(locality_num)\n",
    "gen evertreated = locality != \"Control\"\n",
    "\n",
    "* tax amount\n",
    "gen tau = 0\n",
    "replace tau = 1 if yearmonth >= yearmonth_treat & inlist(locality, \"Albany\", \"Berkeley\", \"Cook\", \"Oakland\", \"San Francisco\")\n",
    "replace tau = 0 if locality == \"Cook\" & yearmonth > 2017 + (12 - 1.01) / 12\n",
    "replace tau = 2 if yearmonth >= yearmonth_treat & locality == \"Boulder\"\n",
    "replace tau = 1.5 if yearmonth >= yearmonth_treat & locality == \"Philly\"\n",
    "replace tau = 1.75 if yearmonth >= yearmonth_treat & locality == \"Seattle\"\n",
    "\n",
    "* months since treatment\n",
    "gen months_since_treat = round((yearmonth - yearmonth_treat) * 12, 1)"
   ]
  },
  {
   "cell_type": "code",
   "execution_count": null,
   "metadata": {},
   "outputs": [],
   "source": [
    "* drop panelists who move\n",
    "\n",
    "capture drop N\n",
    "bys household_code locality: gen N = 1 if _n == 1\n",
    "by household_code: ereplace N = sum(N)\n",
    "tab N\n",
    "\n",
    "keep if N == 1\n",
    "drop N"
   ]
  },
  {
   "cell_type": "code",
   "execution_count": null,
   "metadata": {},
   "outputs": [],
   "source": [
    "* save data\n",
    "\n",
    "save $gen_data/panelist_nutrition_month_prepped, replace\n",
    "\n",
    "\n",
    "* export to CSV for use in R\n",
    "\n",
    "export delimited $gen_data/panelist_nutrition_month.csv, replace"
   ]
  },
  {
   "cell_type": "markdown",
   "metadata": {},
   "source": [
    "## Panelist demographic data\n",
    "\n",
    "Produce one file that will merge m:1 with panelist-month purchase data.\n",
    "\n",
    "Control vars a la Harding et al 2012 AEJ: EP\n",
    "\n",
    ">We measure...in this manner because women are more likely to be the primary shoppers in a two-headed household, but due to high correlation between male and female head's...levels, our estimates are not sensitive to how we measure..."
   ]
  },
  {
   "cell_type": "code",
   "execution_count": null,
   "metadata": {
    "scrolled": true
   },
   "outputs": [],
   "source": [
    "cwf default\n",
    "capture frame drop panelists\n",
    "frame create panelists\n",
    "cwf panelists\n",
    "\n",
    "forvalues year = 2016/2019 {\n",
    "    \n",
    "    preserve\n",
    "    import delimited \"$raw_data/hms/`year'/panelists_`year'.tsv\", varnames(1) clear\n",
    "    \n",
    "    * rename vars\n",
    "    rename (household_cd panel_year) (household_code year)\n",
    "    \n",
    "    * append to tempfile\n",
    "    tempfile temp\n",
    "    qui save `temp'\n",
    "    \n",
    "    restore\n",
    "    append using `temp'\n",
    "}"
   ]
  },
  {
   "cell_type": "code",
   "execution_count": null,
   "metadata": {
    "scrolled": true
   },
   "outputs": [],
   "source": [
    "* 1 - 6+ HH members\n",
    "gen hh_size = household_size\n",
    "replace hh_size = 6 if hh_size > 6\n",
    "label var hh_size \"Household Size, top-coded at 6\"\n",
    "\n",
    "* Low, middle, high income\n",
    "gen hh_income = 1 \n",
    "replace hh_income = 2 if inrange(household_income, 17, 21)\n",
    "replace hh_income = 3 if inrange(household_income, 23, 26)\n",
    "replace hh_income = 4 if household_income == 27\n",
    "label var hh_income \"Household Income\"\n",
    "label define income 1 \"<$35K\" 2 \"$35K - $59,999\" ///\n",
    "    3 \"$60K - $99,999\" 4 \">$100K\"\n",
    "label values hh_income income\n",
    "\n",
    "* (Female) Age < 35, 35 - 49, 50 - 64, 65+\n",
    "gen hh_age = female_head_age\n",
    "replace hh_age = male_head_age if hh_age == 0\n",
    "replace hh_age = -1*hh_age\n",
    "replace hh_age = 4 if hh_age == -9\n",
    "replace hh_age = 3 if hh_age <= -7\n",
    "replace hh_age = 2 if hh_age <= -4\n",
    "replace hh_age = 1 if hh_age < 0\n",
    "label var hh_age \"Age of the (female) head of household\"\n",
    "label define age 1 \"<35\" 2 \"35 - 49\" ///\n",
    "    3 \"50-64\" 4 \"65+\"\n",
    "label values hh_age age\n",
    "\n",
    "* <HS, HS grad, some college, BA+\n",
    "gen hh_educ = female_head_educ\n",
    "replace hh_educ = male_head_educ if hh_educ == 0 \n",
    "replace hh_educ = hh_educ - 1 if hh_educ != 1\n",
    "replace hh_educ = 4 if hh_educ == 5\n",
    "label var hh_educ \"Education of the (female) head of household\"\n",
    "label define educ 1 \"< HS\" 2 \"HS Grad\" ///\n",
    "    3 \"Some College\" 4 \"BA+\" \n",
    "label values hh_educ educ\n",
    "\n",
    "* White, Black, Hispanic, Asian\n",
    "rename race hh_race \n",
    "label var hh_race \"Racial identity of the household\"\n",
    "label define race 1 \"White\" 2 \"Black\" 3 \"Asian\" 4 \"Other\"\n",
    "label values hh_race race\n",
    "\n",
    "* Kids under 18 y/n\n",
    "gen hh_child = 0\n",
    "replace hh_child = 1 if age_and != 9\n",
    "label var hh_child \"Indicates if any children < 18 in HH\"\n",
    "label define child 1 \"Yes\" 2 \"No\"\n",
    "label values hh_child child\n",
    "\n",
    "* Female <30 hrs, 30 - 34 hrs, >= 35 hrs, not employed (includes retired)\n",
    "rename female_head_emp hh_emp_female\n",
    "label var hh_emp_fem \"Hours employment/week of female head of HH\"\n",
    "label define emp 1 \"< 30\" 2 \"30 - 34\" 3 \">= 35\" 9 \"Not employed\" 0 \"No head of this gender\"\n",
    "label values hh_emp_fem emp\n",
    "\n",
    "* Male <30 hrs, 30 - 34 hrs, >= 35 hrs, not employed (includes retired)\n",
    "rename male_head_emp hh_emp_male\n",
    "label var hh_emp_male \"Hours employment/week of male head of HH\"\n",
    "label values hh_emp_male emp\n",
    "\n",
    "* Presence of Female head - captured by hh_female_emp\n",
    "\n",
    "* Presence of Male head - captured by hh_male_emp"
   ]
  },
  {
   "cell_type": "code",
   "execution_count": null,
   "metadata": {},
   "outputs": [],
   "source": [
    "* keep vars and save\n",
    "\n",
    "keep household_code year projection_factor ///\n",
    "    hh_*\n",
    "\n",
    "//desc\n",
    "\n",
    "save $gen_data/panelist_demographics.dta"
   ]
  },
  {
   "cell_type": "markdown",
   "metadata": {},
   "source": [
    "## Cook County Zip Layers"
   ]
  },
  {
   "cell_type": "code",
   "execution_count": null,
   "metadata": {},
   "outputs": [],
   "source": [
    "use $gen_data/panelist_nutrition_month_prepped, clear\n",
    "keep if dma_cd == 602"
   ]
  },
  {
   "cell_type": "code",
   "execution_count": null,
   "metadata": {},
   "outputs": [],
   "source": [
    "desc"
   ]
  },
  {
   "cell_type": "markdown",
   "metadata": {},
   "source": [
    "## Treated stores\n",
    "\n",
    "Stores have zip3 and not zip5, so we will impute using modal customer's zip code."
   ]
  },
  {
   "cell_type": "code",
   "execution_count": null,
   "metadata": {},
   "outputs": [],
   "source": [
    "* Import trips data, then collapse to store level\n",
    "\n",
    "clear\n",
    "use $raw/2017_hms/trips_2017.dta\n",
    "* TODO: merge other years?\n",
    "\n",
    "merge m:1 household_code using $raw/2017_hms/panelists_2017.dta, nogen\n",
    "keep trip_code_uc store_zip3 panelist_zip_code total_spent\n",
    "\n",
    "* get trips by store-panelist_zip\n",
    "gen trips = 1\n",
    "collapse (sum) trips total_spent, by(store_code_uc store_zip3 panelist_zip_code)\n",
    "\n",
    "* Assign each store the modal zip, tie goes to larger sales\n",
    "sort store_code_uc trips total_spent\n",
    "by store_code_uc: gen store_zip5 = panelist_zip_code if _n == 1\n",
    "by store_code_uc: ereplace store_zip5 = min(store_zip5)\n",
    "\n",
    "* save data\n"
   ]
  },
  {
   "cell_type": "code",
   "execution_count": null,
   "metadata": {},
   "outputs": [],
   "source": []
  },
  {
   "cell_type": "code",
   "execution_count": null,
   "metadata": {},
   "outputs": [],
   "source": []
  },
  {
   "cell_type": "markdown",
   "metadata": {},
   "source": [
    "## Alcohol purchases per month"
   ]
  },
  {
   "cell_type": "code",
   "execution_count": null,
   "metadata": {},
   "outputs": [],
   "source": [
    "TODO"
   ]
  }
 ],
 "metadata": {
  "kernelspec": {
   "display_name": "Stata",
   "language": "stata",
   "name": "stata"
  },
  "language_info": {
   "codemirror_mode": "stata",
   "file_extension": ".do",
   "mimetype": "text/x-stata",
   "name": "stata",
   "version": "15.1"
  },
  "toc": {
   "base_numbering": 1,
   "nav_menu": {},
   "number_sections": true,
   "sideBar": true,
   "skip_h1_title": true,
   "title_cell": "Table of Contents",
   "title_sidebar": "Contents",
   "toc_cell": true,
   "toc_position": {
    "height": "calc(100% - 180px)",
    "left": "10px",
    "top": "150px",
    "width": "165px"
   },
   "toc_section_display": true,
   "toc_window_display": true
  }
 },
 "nbformat": 4,
 "nbformat_minor": 4
}
