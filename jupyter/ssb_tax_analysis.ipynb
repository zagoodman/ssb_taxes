{
 "cells": [
  {
   "cell_type": "markdown",
   "metadata": {
    "toc": true
   },
   "source": [
    "<h1>Table of Contents<span class=\"tocSkip\"></span></h1>\n",
    "<div class=\"toc\"><ul class=\"toc-item\"><li><span><a href=\"#Setup\" data-toc-modified-id=\"Setup-1\"><span class=\"toc-item-num\">1&nbsp;&nbsp;</span>Setup</a></span><ul class=\"toc-item\"><li><span><a href=\"#Helper-functions\" data-toc-modified-id=\"Helper-functions-1.1\"><span class=\"toc-item-num\">1.1&nbsp;&nbsp;</span>Helper functions</a></span></li></ul></li><li><span><a href=\"#Import-data\" data-toc-modified-id=\"Import-data-2\"><span class=\"toc-item-num\">2&nbsp;&nbsp;</span>Import data</a></span></li><li><span><a href=\"#Effect-estimation\" data-toc-modified-id=\"Effect-estimation-3\"><span class=\"toc-item-num\">3&nbsp;&nbsp;</span>Effect estimation</a></span><ul class=\"toc-item\"><li><span><a href=\"#Plot-raw-timeseries\" data-toc-modified-id=\"Plot-raw-timeseries-3.1\"><span class=\"toc-item-num\">3.1&nbsp;&nbsp;</span>Plot raw timeseries</a></span></li><li><span><a href=\"#ITT-on-treated-panelists\" data-toc-modified-id=\"ITT-on-treated-panelists-3.2\"><span class=\"toc-item-num\">3.2&nbsp;&nbsp;</span>ITT on treated panelists</a></span></li><li><span><a href=\"#ITT-on-panelists-who-consume-SSBs\" data-toc-modified-id=\"ITT-on-panelists-who-consume-SSBs-3.3\"><span class=\"toc-item-num\">3.3&nbsp;&nbsp;</span>ITT on panelists who consume SSBs</a></span></li></ul></li><li><span><a href=\"#Cook-County\" data-toc-modified-id=\"Cook-County-4\"><span class=\"toc-item-num\">4&nbsp;&nbsp;</span>Cook County</a></span><ul class=\"toc-item\"><li><span><a href=\"#Plot-raw-data\" data-toc-modified-id=\"Plot-raw-data-4.1\"><span class=\"toc-item-num\">4.1&nbsp;&nbsp;</span>Plot raw data</a></span></li><li><span><a href=\"#Effects-on-nutrients\" data-toc-modified-id=\"Effects-on-nutrients-4.2\"><span class=\"toc-item-num\">4.2&nbsp;&nbsp;</span>Effects on nutrients</a></span><ul class=\"toc-item\"><li><span><a href=\"#Baseline-DiD\" data-toc-modified-id=\"Baseline-DiD-4.2.1\"><span class=\"toc-item-num\">4.2.1&nbsp;&nbsp;</span>Baseline DiD</a></span></li><li><span><a href=\"#Matching\" data-toc-modified-id=\"Matching-4.2.2\"><span class=\"toc-item-num\">4.2.2&nbsp;&nbsp;</span>Matching</a></span></li><li><span><a href=\"#Synthetic-control\" data-toc-modified-id=\"Synthetic-control-4.2.3\"><span class=\"toc-item-num\">4.2.3&nbsp;&nbsp;</span>Synthetic control</a></span></li></ul></li><li><span><a href=\"#Effects-by-geography\" data-toc-modified-id=\"Effects-by-geography-4.3\"><span class=\"toc-item-num\">4.3&nbsp;&nbsp;</span>Effects by geography</a></span></li></ul></li><li><span><a href=\"#Additional-plots\" data-toc-modified-id=\"Additional-plots-5\"><span class=\"toc-item-num\">5&nbsp;&nbsp;</span>Additional plots</a></span><ul class=\"toc-item\"><li><span><a href=\"#Cook-County-map\" data-toc-modified-id=\"Cook-County-map-5.1\"><span class=\"toc-item-num\">5.1&nbsp;&nbsp;</span>Cook County map</a></span></li><li><span><a href=\"#Google-Trends\" data-toc-modified-id=\"Google-Trends-5.2\"><span class=\"toc-item-num\">5.2&nbsp;&nbsp;</span>Google Trends</a></span></li></ul></li></ul></div>"
   ]
  },
  {
   "cell_type": "markdown",
   "metadata": {},
   "source": [
    "# SSB Tax Analysis\n",
    "By Zachary A. Goodman\n",
    "\n",
    "Updated: 2021-04\n",
    "\n",
    "This script performs the analysis in Goodman & Orchard (2021)."
   ]
  },
  {
   "cell_type": "markdown",
   "metadata": {},
   "source": [
    "## Setup"
   ]
  },
  {
   "cell_type": "code",
   "execution_count": null,
   "metadata": {},
   "outputs": [],
   "source": [
    "clear all\n",
    "\n",
    "* set working directory\n",
    "qui cd \"../\"\n",
    "\n",
    "* set global directories\n",
    "global raw_data ./data/raw_data\n",
    "global temp_data ./data/temp_data\n",
    "global gen_data ./data/gen_data\n",
    "global figures ./tex/figures \n",
    "global tables ./tex/tables\n",
    "\n",
    "* check dependencies\n",
    "which cem\n",
    "which reghdfe\n",
    "\n",
    "* plot style\n",
    "set scheme s1color"
   ]
  },
  {
   "cell_type": "markdown",
   "metadata": {},
   "source": [
    "### Helper functions"
   ]
  },
  {
   "cell_type": "code",
   "execution_count": null,
   "metadata": {},
   "outputs": [],
   "source": [
    "capture program drop balance_panel\n",
    "program balance_panel\n",
    "    /*\n",
    "    Keeps panelists who are present in panel for all months.\n",
    "    */\n",
    "    bys household_code: gen N = _N\n",
    "    qui sum N\n",
    "    keep if N == r(max)\n",
    "    end"
   ]
  },
  {
   "cell_type": "code",
   "execution_count": null,
   "metadata": {},
   "outputs": [],
   "source": [
    "capture program drop top_code\n",
    "program top_code\n",
    "    /* \n",
    "    Top codes >99th percentile of `var' at the 99th percentile\n",
    "     to avoid the overreaching effects of outliers.\n",
    "    */\n",
    "    args var\n",
    "    qui sum `var', detail\n",
    "    replace `var' = r(p99) if `var' > r(p99)\n",
    "    end\n",
    "\n",
    "capture program drop top_code_all\n",
    "program top_code_all\n",
    "    /* \n",
    "    Top codes all nutrient vars.\n",
    "    */\n",
    "    foreach v of varlist calories-transfatgrams {\n",
    "        capture top_code `v'\n",
    "    }\n",
    "    end"
   ]
  },
  {
   "cell_type": "code",
   "execution_count": null,
   "metadata": {},
   "outputs": [],
   "source": [
    "* define functions for each of four main samples\n",
    "\n",
    "capture program drop get_sea_sf get_cook get_boulder_oak get_philly\n",
    "\n",
    "program get_sea_sf\n",
    "    keep if inlist(dma_cd, 819, 807) & inlist(locality, 4, 8, 9)\n",
    "    end\n",
    "\n",
    "program get_cook\n",
    "    keep if dma_cd == 602\n",
    "    end\n",
    "\n",
    "program get_boulder_oak\n",
    "    keep if inlist(dma_cd, 751, 807) & inlist(locality, 4, 3, 6)\n",
    "    end\n",
    "\n",
    "program get_philly\n",
    "    keep if dma_cd == 504\n",
    "    end\n",
    "\n",
    "capture program drop get_cook data\n",
    "program get_cook_data\n",
    "\n",
    "    * get data\n",
    "    use $gen_data/panelist_nutrition_month_prepped, clear\n",
    "    get_cook\n",
    "    keep if yearmonth // < 2019 \n",
    "    top_code_all\n",
    "\n",
    "    * add months_since_treated for control units\n",
    "    bys yearmonth: ereplace months_since_treat = min(months_since_treat)\n",
    "\n",
    "    * drop unnecessary vars\n",
    "    drop fips* dma_cd-seattle imputed*\n",
    "    end"
   ]
  },
  {
   "cell_type": "code",
   "execution_count": null,
   "metadata": {},
   "outputs": [],
   "source": [
    "* function for exporting plots\n",
    "\n",
    "capture program drop export_img\n",
    "program export_img\n",
    "    args name\n",
    "    graph export $figures/`name'.pdf, name(`name') replace\n",
    "    end"
   ]
  },
  {
   "cell_type": "markdown",
   "metadata": {},
   "source": [
    "## Import data"
   ]
  },
  {
   "cell_type": "code",
   "execution_count": null,
   "metadata": {},
   "outputs": [],
   "source": [
    "use $gen_data/panelist_nutrition_month_prepped.dta, clear\n",
    "top_code_all"
   ]
  },
  {
   "cell_type": "markdown",
   "metadata": {},
   "source": [
    "## Effect estimation"
   ]
  },
  {
   "cell_type": "markdown",
   "metadata": {},
   "source": [
    "### Plot raw timeseries"
   ]
  },
  {
   "cell_type": "code",
   "execution_count": null,
   "metadata": {
    "scrolled": true
   },
   "outputs": [],
   "source": [
    "* plot trends for nutrients\n",
    "\n",
    "capture restore\n",
    "preserve\n",
    "\n",
    "keep if months_since_treat >=-12 & months_since_treat <= 12\n",
    "collapse (mean) calories-transfatgrams, by(months_since_treat)\n",
    "\n",
    "sort months_since_treat\n",
    "\n",
    "foreach v of varlist calories-transfatgrams {\n",
    "    twoway line `v' months_since_treat, ///\n",
    "    title(\"`v'\")\n",
    "}\n",
    "\n",
    "restore"
   ]
  },
  {
   "cell_type": "code",
   "execution_count": null,
   "metadata": {
    "scrolled": true
   },
   "outputs": [],
   "source": [
    "* plot trends for control\n",
    "\n",
    "capture restore\n",
    "preserve\n",
    "\n",
    "keep if locality == 4\n",
    "collapse (mean) calories-transfatgrams, by(yearmonth)\n",
    "\n",
    "sort yearmonth\n",
    "\n",
    "foreach v of varlist calories-transfatgrams {\n",
    "    twoway line `v' yearmonth, ///\n",
    "    title(\"`v'\")\n",
    "}\n",
    "\n",
    "restore"
   ]
  },
  {
   "cell_type": "markdown",
   "metadata": {},
   "source": [
    "### ITT on treated panelists"
   ]
  },
  {
   "cell_type": "code",
   "execution_count": null,
   "metadata": {},
   "outputs": [],
   "source": [
    "capture program drop get_itt\n",
    "program get_itt\n",
    "    /* Estimates ITT of tax on purchases of `nutr' */\n",
    "    args nutr\n",
    "    reghdfe `nutr' tau, absorb(yearmonth household_code) vce(cluster panelist_zipcd)\n",
    "    end"
   ]
  },
  {
   "cell_type": "code",
   "execution_count": null,
   "metadata": {
    "scrolled": false
   },
   "outputs": [],
   "source": [
    "capture drop logsugargrams\n",
    "gen logsugargrams = log(sugargrams)\n",
    "\n",
    "local lst = \"sea_sf cook boulder_oak philly\"\n",
    "capture restore\n",
    "foreach v in `lst' {\n",
    "    preserve\n",
    "    get_`v'\n",
    "    bys yearmonth: ereplace months_since_treat = min(months_since_treat)\n",
    "    keep if months_since_treat <= 3\n",
    "    get_itt logsugargrams\n",
    "    restore\n",
    "}"
   ]
  },
  {
   "cell_type": "code",
   "execution_count": null,
   "metadata": {
    "scrolled": true
   },
   "outputs": [],
   "source": [
    "capture drop logsugargrams\n",
    "gen logsugargrams = log(sugargrams)\n",
    "\n",
    "* seattle & sf (Jan 2018)\n",
    "reghdfe logsugargrams tau if inlist(dma_cd, 819, 807) & inlist(locality, 4, 8, 9), ///\n",
    "    absorb(yearmonth household_code) vce(cluster panelist_zipcd)\n",
    "\n",
    "* cook (end of 2017)\n",
    "reghdfe logsugargrams tau if dma_cd == 602, absorb(yearmonth household_code) vce(cluster panelist_zipcd)\n",
    "\n",
    "* boulder & oakland (mid 2017)\n",
    "reghdfe logsugargrams tau if inlist(dma_cd, 751, 807) & inlist(locality, 4, 3, 6), ///\n",
    "    absorb(yearmonth household_code) vce(cluster panelist_zipcd)\n",
    "\n",
    "* philly (start of 2017)\n",
    "reghdfe logsugargrams tau if dma_cd == 504 & inlist(locality, 4, 7), ///\n",
    "    absorb(yearmonth household_code) vce(cluster panelist_zipcd)"
   ]
  },
  {
   "cell_type": "markdown",
   "metadata": {},
   "source": [
    "### ITT on panelists who consume SSBs"
   ]
  },
  {
   "cell_type": "code",
   "execution_count": null,
   "metadata": {},
   "outputs": [],
   "source": [
    "* TODO - need indicator for SSB consumption"
   ]
  },
  {
   "cell_type": "code",
   "execution_count": null,
   "metadata": {},
   "outputs": [],
   "source": [
    "* Triple diff?"
   ]
  },
  {
   "cell_type": "markdown",
   "metadata": {},
   "source": [
    "## Cook County\n",
    "\n",
    "Here we look at Cook Co. by itself given its larger geographical coverage and that it repealed the tax."
   ]
  },
  {
   "cell_type": "code",
   "execution_count": null,
   "metadata": {},
   "outputs": [],
   "source": [
    "get_cook_data"
   ]
  },
  {
   "cell_type": "markdown",
   "metadata": {},
   "source": [
    "### Plot raw data"
   ]
  },
  {
   "cell_type": "code",
   "execution_count": null,
   "metadata": {},
   "outputs": [],
   "source": [
    "* Plot function\n",
    "\n",
    "capture program drop plot_cook\n",
    "program plot_cook\n",
    "    /*\n",
    "    Plots time series of raw data for `var'\n",
    "    for Cook County vs control.\n",
    "    */\n",
    "    args var title plotname ytitle\n",
    "    twoway (line `var' months_since_treat if evertreated, lcol(\"cranberry\")) ///\n",
    "        (line `var' months_since_treat if !evertreated, lcol(\"navy\")), ///\n",
    "        xline(0, lpattern(dash)) xline(3, lpattern(dash)) ///\n",
    "        title(\"`title'\") ///\n",
    "        ytitle(\"`ytitle'\") ///\n",
    "        xtitle(\"\") ///\n",
    "        name(`plotname', replace) ///\n",
    "        legend(off) // legend(order(1 \"Treatment\" 2 \"Control\")) ///\n",
    "\n",
    "    end"
   ]
  },
  {
   "cell_type": "code",
   "execution_count": null,
   "metadata": {
    "scrolled": true
   },
   "outputs": [],
   "source": [
    "* Panelist behaviors\n",
    "\n",
    "capture restore\n",
    "preserve\n",
    "\n",
    "* percent vars\n",
    "gen p_storebrand = items_storebrand / items_scanned\n",
    "gen p_food = items_food / items_scanned\n",
    "gen p_coupon = items_coupons / items_scanned\n",
    "gen p_deals = items_deals / items_scanned\n",
    "\n",
    "local vars = \"trips total_spent items_deals-coupons_amount_saved p_*\"\n",
    "local titles = \"Trips per\"\n",
    "local nvars : word count `vars'\n",
    "\n",
    "collapse (mean) `vars', by(evertreated months_since_treat)\n",
    "\n",
    "plot_cook trips \"Trips per month\" \"trips\" \"Trips/month\"\n",
    "plot_cook total_spent \"Expenditures per month\" \"total_spent\" \"Dollars/month\"\n",
    "plot_cook final_price_paid \"Expenditures scanned per month\" \"total_scan\" \"Dollars/month\"\n",
    "plot_cook final_price_paid_food \"Food expenditures scanned per month\" \"total_scan_food\" \"Dollars/month\"\n",
    "plot_cook items_scanned \"Items scanned per month\" \"items_scan\" \"Items/month\"\n",
    "plot_cook p_food \"Percent scanned items food\" \"p_food\" \"Percent\"\n",
    "plot_cook p_storebrand \"Percent scanned items storebrand\" \"p_storebrand\" \"Percent\"\n",
    "plot_cook p_coupon \"Percent items coupon used\" \"p_coupon\" \"Percent\"\n",
    "plot_cook p_deals \"Percent items with deals\" \"p_deals\" \"Percent\"\n",
    "\n",
    "graph combine trips total_spent total_scan total_scan_food ///\n",
    "    items_scan p_food p_storebrand p_coupon p_deals, ///\n",
    "    row(3) name(panelist_behav, replace) altshrink iscale(1.2) ysize(5) xsize(6)\n",
    "\n",
    "* export\n",
    "export_img panelist_behav\n",
    "\n",
    "\n",
    "* alt method: iterate over two list\n",
    "// forval i=1/`nvars' {\n",
    "//     local thisvar : word `i' of `vars'\n",
    "//     local thistitle : word `i' of `titles'\n",
    "//     plot_cook `thisvar' `thistitle'\n",
    "// }\n",
    "\n",
    "restore"
   ]
  },
  {
   "cell_type": "code",
   "execution_count": null,
   "metadata": {
    "scrolled": true
   },
   "outputs": [],
   "source": [
    "* Nutrients\n",
    "\n",
    "capture restore\n",
    "preserve\n",
    "\n",
    "* percent vars\n",
    "gen p_sugar = (sugargrams * 4) / calories\n",
    "\n",
    "local vars = \"calories-sugargrams p_sugar\"\n",
    "\n",
    "collapse (mean) `vars', by(evertreated months_since_treat)\n",
    "\n",
    "plot_cook calories \"Calories per month\" \"calories\" \"kcal/month\"\n",
    "plot_cook sugargrams \"Sugars per month\" \"sugar\" \"g/month\"\n",
    "plot_cook p_sugar \"Percent calories from sugar\" \"p_sugar\" \"Percent\"\n",
    "plot_cook fatgrams \"Fats per month\" \"fats\" \"g/month\"\n",
    "plot_cook satfatgrams \"Saturated fats per month\" \"satfats\" \"g/month\"\n",
    "plot_cook carbsgrams \"Carbohydrates per month\" \"carbs\" \"g/month\"\n",
    "plot_cook fibergrams \"Fiber per month\" \"fiber\"  \"g/month\"\n",
    "plot_cook proteingrams \"Protein per month\" \"protein\" \"g/month\"\n",
    "plot_cook sodiumgrams \"Sodium per month\" \"sodium\" \"g/month\"\n",
    "\n",
    "graph combine calories sugar p_sugar fats ///\n",
    "    satfats carbs fiber protein sodium, ///\n",
    "    row(3) name(panelist_nutr, replace) altshrink iscale(1.2) ysize(5) xsize(6)\n",
    "\n",
    "* export\n",
    "export_img panelist_nutr\n",
    "\n",
    "\n",
    "restore"
   ]
  },
  {
   "cell_type": "markdown",
   "metadata": {},
   "source": [
    "### Effects on nutrients"
   ]
  },
  {
   "cell_type": "markdown",
   "metadata": {},
   "source": [
    "#### Baseline DiD"
   ]
  },
  {
   "cell_type": "code",
   "execution_count": null,
   "metadata": {},
   "outputs": [],
   "source": [
    "* Define function\n",
    "\n",
    "capture program drop reg_nutr\n",
    "program reg_nutr\n",
    "    args nutr nutrname\n",
    "\n",
    "    * gen months var > 0\n",
    "    capture drop temp_months\n",
    "    qui sum months_since_treat\n",
    "    local min_months = r(min)\n",
    "    local base = -2 - `min_months'\n",
    "    gen temp_months = months_since_treat - `min_months'\n",
    "\n",
    "    * gen treatment var if missing\n",
    "    capture gen treated = locality_str == \"cook\"\n",
    "\n",
    "    * run regression\n",
    "    capture drop log_`nutr'\n",
    "    gen log_`nutr' = log(`nutr')\n",
    "    reghdfe log_`nutr' treated c.treated#ib`base'.temp_months, ///\n",
    "        absorb(household_code temp_months) vce(cluster panelist_zipcd)\n",
    "    drop temp_months log_`nutr'\n",
    "\n",
    "    * coeffplot labels\n",
    "    local labels = \"\"\n",
    "    local keeplist = \"\"\n",
    "    forvalues i = 7/34 {\n",
    "        local j = `i' + `min_months'\n",
    "        local labels = \"`labels'\" + `\"`i'.* = `j' \"'\n",
    "        local keeplist = \"`keeplist'\" + `\"`i'.* \"'\n",
    "    }\n",
    "\n",
    "    * coeffplot\n",
    "    local title = proper(\"`nutrname'\")\n",
    "    local start_policy = 12.5\n",
    "    local end_policy = `start_policy' + 4\n",
    "    coefplot, mcol(\"navy\") ciopts(lcol(\"navy\")) keep(`keeplist') vertical ///\n",
    "        yline(0, lcol(black)) xline(`start_policy', lpattern(dash)) ///\n",
    "        xline(`end_policy', lpattern(dash)) ///\n",
    "        baselevels omitted nolabel coeflabels(`labels') ///\n",
    "        xtitle(\"Months since tax began\") ///\n",
    "        ytitle(\"Percent change in `nutrname' purchased\") ///\n",
    "        title(\"`title'\") ///\n",
    "        ylabel(-0.2(0.1)0.2) ///\n",
    "        name(coefplot_cook_`nutr', replace)\n",
    "\n",
    "    end"
   ]
  },
  {
   "cell_type": "code",
   "execution_count": null,
   "metadata": {
    "scrolled": true
   },
   "outputs": [],
   "source": [
    "reg_nutr sugargrams \"sugar\"\n",
    "reg_nutr calories \"calories\"\n",
    "reg_nutr fatgrams \"fat\"\n",
    "reg_nutr carbsgrams \"carbohydrates\"\n",
    "reg_nutr proteingrams \"protein\"\n",
    "reg_nutr fibergrams \"fiber\"\n",
    "\n",
    "graph combine coefplot_cook_calories coefplot_cook_sugargrams ///\n",
    "    coefplot_cook_carbsgrams coefplot_cook_fibergrams ///\n",
    "    coefplot_cook_fatgrams coefplot_cook_proteingrams, ///\n",
    "    row(3) name(coefplot_cook_combo, replace) ///\n",
    "    altshrink iscale(1.2) ysize(5) xsize(6)\n",
    "\n",
    "export_img coefplot_cook_combo"
   ]
  },
  {
   "cell_type": "code",
   "execution_count": null,
   "metadata": {},
   "outputs": [],
   "source": [
    "* TODO sugar from SSBs\n",
    "* TODO sugar by store location\n",
    "* TODO sugar by those who consume SSBs"
   ]
  },
  {
   "cell_type": "markdown",
   "metadata": {},
   "source": [
    "#### Matching"
   ]
  },
  {
   "cell_type": "code",
   "execution_count": null,
   "metadata": {},
   "outputs": [],
   "source": [
    "* merge demographic information\n",
    "\n",
    "merge m:1 household_code year using $gen_data/panelist_demographics.dta, keep(3) nogen"
   ]
  },
  {
   "cell_type": "code",
   "execution_count": null,
   "metadata": {},
   "outputs": [],
   "source": [
    "tab hh_emp_male, nolab"
   ]
  },
  {
   "cell_type": "code",
   "execution_count": null,
   "metadata": {
    "scrolled": true
   },
   "outputs": [],
   "source": [
    "* get matches via CEM\n",
    "\n",
    "cem hh_race (1 2 3 4) ///\n",
    "    hh_size (1 2 3 4 5 6) ///\n",
    "    hh_income (1 2 3 4) ///\n",
    "    hh_age (1 2 3 4) ///\n",
    "    hh_educ (1 2 3 4) ///\n",
    "    hh_child (0 1) ///\n",
    "    hh_emp_male (0 1 2 3 9) ///\n",
    "    hh_emp_female (0 1 2 3 9) if year == 2017, tr(evertreated)"
   ]
  },
  {
   "cell_type": "code",
   "execution_count": null,
   "metadata": {
    "scrolled": false
   },
   "outputs": [],
   "source": [
    "* estimate trends with matched subset\n",
    "\n",
    "preserve\n",
    "bys household_code: ereplace cem_matched = min(cem_matched)\n",
    "keep if cem_matched\n",
    "\n",
    "reg_nutr sugargrams \"sugar\"\n",
    "\n",
    "restore"
   ]
  },
  {
   "cell_type": "markdown",
   "metadata": {},
   "source": [
    "#### Synthetic control"
   ]
  },
  {
   "cell_type": "code",
   "execution_count": null,
   "metadata": {},
   "outputs": [],
   "source": [
    "get_cook_data\n",
    "keep if yearmonth < 2019\n",
    "\n",
    "* aggregate to zip level\n",
    "collapse (mean) sugargrams total_spent, by(panelist_zipcd yearmonth months_since_treat evertreated tau)\n",
    "\n",
    "* balance panel\n",
    "bys panelist_zipcd: keep if _N == 36"
   ]
  },
  {
   "cell_type": "code",
   "execution_count": null,
   "metadata": {},
   "outputs": [],
   "source": [
    "* aggregate treated units\n",
    "\n",
    "bys evertreated yearmonth: ereplace sugargrams = mean(sugargrams) if evertreated\n",
    "bys evertreated yearmonth: ereplace total_spent = mean(total_spent) if evertreated\n",
    "by evertreated yearmonth: keep if _n == 1 | !evertreated\n",
    "replace panelist_zipcd = 1 if evertreated\n",
    "// tab yearmonth evertreated\n",
    "\n",
    "\n",
    "* set panel \n",
    "replace months_since_treat = months_since_treat + 19\n",
    "tsset panelist_zipcd months_since_treat"
   ]
  },
  {
   "cell_type": "code",
   "execution_count": null,
   "metadata": {},
   "outputs": [],
   "source": [
    "export delimited $temp_data/synth_prepped.csv"
   ]
  },
  {
   "cell_type": "code",
   "execution_count": null,
   "metadata": {},
   "outputs": [],
   "source": [
    "* run synthetic control\n",
    "synth sugargrams total_spent sugargrams, trunit(1) trperiod(19) ///\n",
    "    figure keep($gen_data/synth.dta) replace"
   ]
  },
  {
   "cell_type": "code",
   "execution_count": null,
   "metadata": {},
   "outputs": [],
   "source": [
    "use $gen_data/synth.dta, clear"
   ]
  },
  {
   "cell_type": "code",
   "execution_count": null,
   "metadata": {},
   "outputs": [],
   "source": [
    "sum"
   ]
  },
  {
   "cell_type": "markdown",
   "metadata": {},
   "source": [
    "### Effects by geography"
   ]
  },
  {
   "cell_type": "code",
   "execution_count": null,
   "metadata": {},
   "outputs": [],
   "source": [
    "* restore data\n",
    "get_cook_data\n",
    "qui do ./jupyter/cook_zip_layers.do\n",
    "tab layer"
   ]
  },
  {
   "cell_type": "code",
   "execution_count": null,
   "metadata": {},
   "outputs": [],
   "source": [
    "* estimate effects as function of layer\n",
    "\n",
    "capture restore\n",
    "preserve\n",
    "\n",
    "* restrict years\n",
    "* Why? Isolate effect of tax during tax from effect post removal\n",
    "keep if yearmonth < 2017.916 // 2019\n",
    "\n",
    "* prep\n",
    "gen logsugar = log(sugargrams)\n",
    "\n",
    "* gen treatment var if missing\n",
    "capture gen treated = locality_str == \"cook\"\n",
    "bys yearmonth: ereplace tau = max(tau) if layer > 0\n",
    "\n",
    "* run regression\n",
    "reghdfe logsugar c.tau#i.layer, ///\n",
    "    absorb(household_code yearmonth) vce(cluster panelist_zipcd)\n",
    "\n",
    "restore"
   ]
  },
  {
   "cell_type": "markdown",
   "metadata": {},
   "source": [
    "## Additional plots"
   ]
  },
  {
   "cell_type": "markdown",
   "metadata": {},
   "source": [
    "### Cook County map"
   ]
  },
  {
   "cell_type": "code",
   "execution_count": null,
   "metadata": {},
   "outputs": [],
   "source": [
    "* Run shp2dta to get Stata recognizable data\n",
    "\n",
    "shp2dta using $raw_data/maps/zip.shp, ///\n",
    "    database($raw_data/maps/zipdb) ///\n",
    "    coordinates($raw_data/maps/zipcoord) ///\n",
    "    genid(zipid) replace\n",
    "\n",
    "shp2dta using $raw_data/maps/county.shp, ///\n",
    "    database($raw_data/maps/cntydb) ///\n",
    "    coordinates($raw_data/maps/cntycoord) ///\n",
    "    genid(cntyid) replace"
   ]
  },
  {
   "cell_type": "code",
   "execution_count": null,
   "metadata": {
    "scrolled": false
   },
   "outputs": [],
   "source": [
    "*** Zip-code layer plot\n",
    "\n",
    "* Load coordinate data\n",
    "use $raw_data/maps/zipdb, clear\n",
    "rename *, lower\n",
    "gen zip = real(zcta)\n",
    "\n",
    "* keep only Chicago DMA, and merge border data\n",
    "merge 1:1 zip using $raw_data/maps/zip_list, keep(3) nogen\n",
    "merge 1:1 zip using $raw_data/maps/border, keep(3) nogen\n",
    "\n",
    "* Merge coefficient data\n",
    "preserve\n",
    "use $raw_data/maps/coeff_cook_tot_border.dta, clear  // TODO: update this\n",
    "gen border = real(substr(var, 1, 1))\n",
    "keep border coef\n",
    "drop if border == .\n",
    "rename coef coeff_tot\n",
    "tempfile temp\n",
    "qui save `temp'\n",
    "restore\n",
    "merge m:1 border using `temp', nogen\n",
    "\n",
    "\n",
    "** Create Cook Co Boundary\n",
    "* Load county coordinate data \n",
    "preserve\n",
    "\n",
    "use $raw_data/maps/cntydb, clear\n",
    "rename *, lower\n",
    "gen countyfip = real(geoid)\n",
    "keep if countyfip == 17031\n",
    "save $raw_data/maps/cntydb2, replace\n",
    "\n",
    "mergepoly cntyid using $raw_data/maps/cntycoord, ///\n",
    "    coord($raw_data/maps/cookcoord) replace\n",
    "\n",
    "restore\n",
    "\n",
    "* keep relevant lats and longs\n",
    "gen lat = real(intptlat)\n",
    "gen lon = real(intptlon)\n",
    "keep if inrange(lat, 41.2, 42.4)\n",
    "keep if inrange(lon, -88.4, -87.2)\n",
    "\n",
    "* Create map using coeff as intensity var\n",
    "spmap coeff_tot using $raw_data/maps/zipcoord, ///\n",
    "    id(zipid) ndfcolor(white) clnumber(7) fcolor(RdYlBu) clm(k) ///\n",
    "    polygon(data($raw_data/maps/cookcoord) fcolor(none) ocolor(yellow) osize(thick)) ///\n",
    "    name(cookzips, replace) mfcolor(black) ///\n",
    "    legend(off)\n",
    "//    title(\"Cook County layers by zip code\")\n",
    "\n",
    "export_img cookzips"
   ]
  },
  {
   "cell_type": "markdown",
   "metadata": {},
   "source": [
    "### Google Trends\n",
    "\n",
    "Examine Google Trends data to have some sense of salience and anticipation effects."
   ]
  },
  {
   "cell_type": "code",
   "execution_count": null,
   "metadata": {},
   "outputs": [],
   "source": [
    "* import and prep data\n",
    "\n",
    "import delimited $raw_data/gtrends.csv, varnames(1) clear delimiters(\",\")\n",
    "rename sodatax sodatax\n",
    "gen date = date(week, \"MDY\")\n",
    "gen year = year(date)\n",
    "gen week2 = week(date)\n",
    "gen month = month(date)\n",
    "\n",
    "gen yearweek = week2\n",
    "replace yearweek = yearweek+52 if year == 2017\n",
    "\n",
    "local passed = week(date(\"11/10/2016\", \"MDY\"))\n",
    "local delayed = week(date(\"6/27/2017\", \"MDY\")) + 52\n",
    "local start = week(date(\"8/2/2017\", \"MDY\")) + 52\n",
    "local delayed2 = week(date(\"9/13/2017\", \"MDY\")) + 52\n",
    "local repeal = week(date(\"10/11/2017\", \"MDY\")) + 52\n",
    "local end = week(date(\"12/1/2017\", \"MDY\")) + 52\n",
    "\n",
    "capture drop label\n",
    "gen label = \"\"\n",
    "replace label = \"Passed\" if yearweek == `passed'\n",
    "replace label = \"Tax Delayed\" if yearweek == `delayed'\n",
    "replace label = \"Start\" if yearweek == `start'\n",
    "replace label = \"Vote\" if yearweek == `delayed2'\n",
    "replace label = \"Delayed\" if yearweek == `delayed2' + 1\n",
    "replace label = \"Repealed\" if yearweek == `repeal'\n",
    "replace label = \"End\" if yearweek == `end'\n",
    "\n",
    "capture drop marker*\n",
    "gen markerx = yearweek - 3\n",
    "gen markery = sodatax + 4\n",
    "replace markerx = markerx - 3 if label == \"Tax Delayed\"\n",
    "replace markerx = markerx - 1.5 if label == \"Start\"\n",
    "replace markerx = markerx - 1 if label == \"Repealed\"\n",
    "replace markerx = markerx + 3 if label == \"End\"\n",
    "replace markerx = markerx - 1.5 if label == \"Delayed\"\n",
    "replace markery = markery + 32 if label == \"Delayed\"\n",
    "replace markery = markery + 4 if label == \"Vote\"\n",
    "replace markerx = markerx + 1 if label == \"Vote\"\n",
    "replace markery = markery - 3 if inlist(label, \"Start\", \"End\")\n",
    "\n",
    "\n",
    "twoway (scatter markery markerx, mlabel(label) mlabcol(black) msize(0) mcol(%0)) ///\n",
    "    (line sodatax yearweek, lcol(navy) xline(83 100, lpattern(dash))), ///\n",
    "    xlabel(45 `\" \"Nov 10\" \"2016\" \"' 78 `\" \"June 27\" \"2017\" \"' ///\n",
    "            93 `\" \"Oct 11\" \"2017\" \"' 100 `\" \"Dec 1\" \"2017\" \"') ///\n",
    "    legend(off) ytitle(\"Relative Volume\") ///\n",
    "    name(gtrends, replace)\n",
    "//    title(`\"Relative Weekly Search Volume for \"soda tax\" \"') ///\n",
    "\n",
    "export_img gtrends"
   ]
  }
 ],
 "metadata": {
  "kernelspec": {
   "display_name": "Stata",
   "language": "stata",
   "name": "stata"
  },
  "language_info": {
   "codemirror_mode": "stata",
   "file_extension": ".do",
   "mimetype": "text/x-stata",
   "name": "stata",
   "version": "15.1"
  },
  "toc": {
   "base_numbering": 1,
   "nav_menu": {},
   "number_sections": true,
   "sideBar": true,
   "skip_h1_title": true,
   "title_cell": "Table of Contents",
   "title_sidebar": "Contents",
   "toc_cell": true,
   "toc_position": {
    "height": "100px",
    "left": "35px",
    "top": "110.8px",
    "width": "178px"
   },
   "toc_section_display": true,
   "toc_window_display": true
  }
 },
 "nbformat": 4,
 "nbformat_minor": 4
}
