{
 "cells": [
  {
   "cell_type": "markdown",
   "id": "1696fc8a",
   "metadata": {
    "toc": true
   },
   "source": [
    "<h1>Table of Contents<span class=\"tocSkip\"></span></h1>\n",
    "<div class=\"toc\"><ul class=\"toc-item\"><li><span><a href=\"#Decile-tables\" data-toc-modified-id=\"Decile-tables-1\"><span class=\"toc-item-num\">1&nbsp;&nbsp;</span>Decile tables</a></span></li></ul></div>"
   ]
  },
  {
   "cell_type": "markdown",
   "id": "10ac0e98",
   "metadata": {},
   "source": [
    "This file creates and edits tables for the paper."
   ]
  },
  {
   "cell_type": "markdown",
   "id": "d726a232",
   "metadata": {},
   "source": [
    "## Decile tables"
   ]
  },
  {
   "cell_type": "code",
   "execution_count": null,
   "id": "bc69584a",
   "metadata": {},
   "outputs": [],
   "source": [
    "def fix_xtiles(fname, xtiles=10, dv1='4 months sugar', dv2=None, replace_bottom=True):\n",
    "    with open(fname, 'r') as file:\n",
    "        data = file.read()\n",
    "    \n",
    "    # decile or quintile\n",
    "    if xtiles == 10:\n",
    "        tile = 'decile'\n",
    "    elif xtiles == 5:\n",
    "        tile = 'quintile'\n",
    "    else:\n",
    "        tile = 'percentile'\n",
    "    Tile = tile.capitalize()\n",
    "    \n",
    "    # replace all decile labels\n",
    "    for x in range(xtiles, 0, -1):\n",
    "        data = data.replace(f'{x}.percentiles X tau', f'\\\\customlinespace {Tile} {x}')\n",
    "\n",
    "    # replace bottom decile\n",
    "    if replace_bottom:\n",
    "        data = data.replace(f'{Tile} 1', f'{Tile}s 1 - 2', 1)\n",
    "\n",
    "    # replace bottom of table notes\n",
    "    replace_dict = {\n",
    "        'treatedhh': 'Treated Households',\n",
    "        'households': 'Households',\n",
    "        'household\\\\_months': 'Household-months',\n",
    "        'hhfixed': 'Household FEs',\n",
    "        'mfixed': 'Month FEs',\n",
    "        'balance': 'Balanced Panel',\n",
    "        'weights': 'Sampling Weights'\n",
    "    }\n",
    "    for k in replace_dict.keys():\n",
    "        data = data.replace(k, replace_dict[k], 1)\n",
    "\n",
    "    # add dependent variable description above models\n",
    "    i = data.find('&\\multicolumn{1}{c}{(1)}')\n",
    "    data = data[:i] + '& \\\\multicolumn{3}{c}{DV: ' + dv1 + '} \\\\\\\\\\n\\\\cmidrule(l{.75em}){2-4} ' + data[i:]\n",
    "    if dv2:\n",
    "        i = data.find('&\\multicolumn{1}{c}{(1)}')\n",
    "        data = data[:i] +  '\\\\cmidrule(l{.75em}){5-7} \\n' + data[i:]\n",
    "        i = data.find('\\\\\\\\\\n\\\\cmidrule(l{.75em}){2-4}')\n",
    "        data = data[:i] + '& \\\\multicolumn{3}{c}{DV: ' + dv2 + '}' + data[i:]\n",
    "        \n",
    "    # add leftmost column title\n",
    "    i = data.find('&\\multicolumn{1}{c}{(1)}')\n",
    "    data = data[:i] + f'Pre-tax soda {tile}' + data[i:]\n",
    "\n",
    "    # save table\n",
    "    with open(fname, 'w') as file:\n",
    "        file.write(data)"
   ]
  },
  {
   "cell_type": "code",
   "execution_count": null,
   "id": "7bd45381",
   "metadata": {},
   "outputs": [],
   "source": [
    "# Cook, g sugar\n",
    "fname = '../tex/tables/sodatilesgcook.tex'\n",
    "fix_xtiles(fname, xtiles=10, dv1='4 months sugar during tax', dv2='4 months sugar post tax')"
   ]
  },
  {
   "cell_type": "code",
   "execution_count": null,
   "id": "a6812cc5",
   "metadata": {},
   "outputs": [],
   "source": [
    "# Cook, oz soda\n",
    "fname = '../tex/tables/sodatilesozcook.tex'\n",
    "fix_xtiles(fname, xtiles=10, dv1='4 months soda during tax', dv2='4 months soda post tax')"
   ]
  },
  {
   "cell_type": "code",
   "execution_count": null,
   "id": "1b526d9a",
   "metadata": {},
   "outputs": [],
   "source": [
    "# Seattle and SF, g sugar\n",
    "fname = '../tex/tables/sodatilesgsf.tex'\n",
    "fix_xtiles(fname, xtiles=5, dv1='4 months sugar', dv2='12 months sugar')"
   ]
  },
  {
   "cell_type": "code",
   "execution_count": null,
   "id": "f3aa0bf5",
   "metadata": {},
   "outputs": [],
   "source": [
    "# Philly, g sugar\n",
    "fname = '../tex/tables/sodatilesgphilly.tex'\n",
    "fix_xtiles(fname, xtiles=5, dv1='4 months sugar', dv2='12 months sugar', replace_bottom=False)"
   ]
  },
  {
   "cell_type": "code",
   "execution_count": null,
   "id": "1d8464b5",
   "metadata": {},
   "outputs": [],
   "source": [
    "# Boulder and Oakland, g sugar\n",
    "fname = '../tex/tables/sodatilesgoak.tex'\n",
    "fix_xtiles(fname, xtiles=5, dv1='4 months sugar', dv2='12 months sugar', replace_bottom=False)"
   ]
  },
  {
   "cell_type": "code",
   "execution_count": null,
   "id": "bde2dfcd",
   "metadata": {},
   "outputs": [],
   "source": []
  }
 ],
 "metadata": {
  "kernelspec": {
   "display_name": "Python 3",
   "language": "python",
   "name": "python3"
  },
  "language_info": {
   "codemirror_mode": {
    "name": "ipython",
    "version": 3
   },
   "file_extension": ".py",
   "mimetype": "text/x-python",
   "name": "python",
   "nbconvert_exporter": "python",
   "pygments_lexer": "ipython3",
   "version": "3.7.10"
  },
  "toc": {
   "base_numbering": 1,
   "nav_menu": {},
   "number_sections": true,
   "sideBar": true,
   "skip_h1_title": true,
   "title_cell": "Table of Contents",
   "title_sidebar": "Contents",
   "toc_cell": true,
   "toc_position": {},
   "toc_section_display": true,
   "toc_window_display": true
  }
 },
 "nbformat": 4,
 "nbformat_minor": 5
}
