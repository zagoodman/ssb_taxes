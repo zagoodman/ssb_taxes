{
 "cells": [
  {
   "cell_type": "markdown",
   "id": "93060135",
   "metadata": {
    "toc": true
   },
   "source": [
    "<h1>Table of Contents<span class=\"tocSkip\"></span></h1>\n",
    "<div class=\"toc\"><ul class=\"toc-item\"><li><span><a href=\"#Pooled-ITT-Table\" data-toc-modified-id=\"Pooled-ITT-Table-1\"><span class=\"toc-item-num\">1&nbsp;&nbsp;</span>Pooled ITT Table</a></span></li><li><span><a href=\"#Geography-table\" data-toc-modified-id=\"Geography-table-2\"><span class=\"toc-item-num\">2&nbsp;&nbsp;</span>Geography table</a></span></li><li><span><a href=\"#Decile-tables\" data-toc-modified-id=\"Decile-tables-3\"><span class=\"toc-item-num\">3&nbsp;&nbsp;</span>Decile tables</a></span></li></ul></div>"
   ]
  },
  {
   "cell_type": "markdown",
   "id": "c8381a57",
   "metadata": {},
   "source": [
    "This file creates and edits tables for the paper."
   ]
  },
  {
   "cell_type": "markdown",
   "id": "fbb3b610",
   "metadata": {},
   "source": [
    "## Pooled ITT Table"
   ]
  },
  {
   "cell_type": "code",
   "execution_count": null,
   "id": "112fc47b",
   "metadata": {},
   "outputs": [],
   "source": [
    "def fix_pooled(fname, dv1='During tax', dv2='4 months post tax'):\n",
    "    with open(fname, 'r') as file:\n",
    "        data = file.read()\n",
    "        \n",
    "    # replace bottom of table notes and varnames\n",
    "    replace_dict = {\n",
    "        # bottom of tables\n",
    "        'treatedhh': 'Treated Households',\n",
    "        'households': 'Households',\n",
    "        'household_months': 'Household-months',\n",
    "        'balance': 'Balanced Panel',\n",
    "        'weights': 'Sampling Weights',\n",
    "        # behaviors\n",
    "        'trips': 'All Trips',\n",
    "        'total_spent': 'All expenditures',\n",
    "        'final_price_paid_food': 'Food expenditures scanned',\n",
    "        'final_price_paid': 'Expenditures scanned',\n",
    "        'items_scanned': 'Items scanned',\n",
    "        'items_food': 'Food items scanned',\n",
    "        'items_storebrand': 'Storebrand items scanned',\n",
    "        'items_coupons': 'Items with coupon scanned',\n",
    "        'items_deals': 'Items with deals scanned',\n",
    "        # nutrients\n",
    "        'sugargrams': 'All sugar',\n",
    "        'carbsgrams': 'Carbohydrates',\n",
    "        'carbsgrams_nonsugar': 'Carb., non-sugar',\n",
    "        'calories': 'Calories',\n",
    "        'calories_nonsugar': 'Calories, non-sugar',\n",
    "        'fatgrams': 'Fat',\n",
    "        'fibergrams': 'Fiber',\n",
    "        'proteingrams': 'Protein',\n",
    "        'sodiumgrams': 'Sodium',\n",
    "        # beverages\n",
    "        'oz_soda_regular': 'Reg. soda',\n",
    "        'oz_soda_diet': 'Diet soda',\n",
    "        'oz_fruit_drinks': 'Fruit drinks',\n",
    "        'oz_milk': 'Milk',\n",
    "        'oz_water_bottled': 'Bottled water',\n",
    "        'oz_tea_liquid': 'Liquid tea',\n",
    "        'oz_coffee_fluid': 'Liquid coffee',\n",
    "        'oz_coffee_solid': 'Solid coffee',\n",
    "        'oz_alcohol': 'Alcohol',\n",
    "        # source\n",
    "        'sugar_soda_regular': 'Sugar from reg. soda',\n",
    "        'sugar_fruit_drinks': 'Sugar from fruit drinks',\n",
    "        'sugar_milk': 'Sugar from milk',\n",
    "        'sugar_tea_liquid': 'Sugar from liq. tea',\n",
    "        'sugar_coffee_fluid': 'Sugar from liq. coffee',\n",
    "        'sugar_sweets': 'Sugar from sweets',\n",
    "        # cross border trips\n",
    "        'cook_trip': 'IB trips',\n",
    "        'cook_trip_inv': 'CB trips',\n",
    "        'cook_dollars': 'IB expenditures',\n",
    "        'cook_dollars_inv': 'CB expenditures',\n",
    "        'cook_sugar': 'IB sugar',\n",
    "        'cook_sugar_inv': 'CB sugar',\n",
    "    }\n",
    "    for k in replace_dict.keys():\n",
    "        data = data.replace(k, replace_dict[k], 1)\n",
    "\n",
    "    # add dependent variable description above models\n",
    "    i = data.find('&\\multicolumn{1}{c}{(1)}')\n",
    "    data = data[:i] + '& \\\\multicolumn{3}{c}{' + dv1 + '} \\\\\\\\\\n\\\\cmidrule(l{.75em}){2-4} ' + data[i:]\n",
    "    if dv2:\n",
    "        i = data.find('&\\multicolumn{1}{c}{(1)}')\n",
    "        data = data[:i] +  '\\\\cmidrule(l{.75em}){5-7} \\n' + data[i:]\n",
    "        i = data.find('\\\\\\\\\\n\\\\cmidrule(l{.75em}){2-4}')\n",
    "        data = data[:i] + '& \\\\multicolumn{3}{c}{' + dv2 + '}' + data[i:]\n",
    "        \n",
    "    # add leftmost column title\n",
    "    i = data.find('&\\multicolumn{1}{c}{(1)}')\n",
    "    data = data[:i] + 'Dependent Variable' + data[i:]\n",
    "    \n",
    "    # replace all extra lines with spaces\n",
    "    data = data.replace('\\\\midrule', '\\\\customlinespace \\n')\n",
    "    \n",
    "    # add back removed lines where wanted\n",
    "    i = data.find('Treated Households')\n",
    "    data = data[:i] + '\\\\midrule \\n' + data[i:]\n",
    "    i = data.find('\\\\multicolumn{1}{c}{(6)}         \\\\\\\\')\n",
    "    data = data[:i+35] + '\\\\midrule \\n' + data[i+35:]\n",
    "\n",
    "    # save table\n",
    "    with open(fname, 'w') as file:\n",
    "        file.write(data)"
   ]
  },
  {
   "cell_type": "code",
   "execution_count": null,
   "id": "2785d402",
   "metadata": {},
   "outputs": [],
   "source": [
    "# Cook, behaviors\n",
    "fname = '../tex/tables/itt_cook_behaviors.tex'\n",
    "fix_pooled(fname)\n",
    "\n",
    "# expand first column\n",
    "with open(fname, 'r') as file:\n",
    "    data = file.read()\n",
    "    data = data.replace('{m{0.23', '{m{0.32')\n",
    "    data = data.replace('m{0.10', 'm{0.09')\n",
    "with open(fname, 'w') as file:\n",
    "    file.write(data)       "
   ]
  },
  {
   "cell_type": "code",
   "execution_count": null,
   "id": "912fda48",
   "metadata": {},
   "outputs": [],
   "source": [
    "# Cook, nutrients\n",
    "fname = '../tex/tables/itt_cook_nutrients.tex'\n",
    "fix_pooled(fname)"
   ]
  },
  {
   "cell_type": "code",
   "execution_count": null,
   "id": "103a7868",
   "metadata": {},
   "outputs": [],
   "source": [
    "# Cook, beverages\n",
    "fname = '../tex/tables/itt_cook_beverages.tex'\n",
    "fix_pooled(fname)"
   ]
  },
  {
   "cell_type": "code",
   "execution_count": null,
   "id": "b77bb49f",
   "metadata": {},
   "outputs": [],
   "source": [
    "# Cook, beverages intensive\n",
    "fname = '../tex/tables/itt_cook_beverages_intensive.tex'\n",
    "fix_pooled(fname)\n",
    "\n",
    "# edit description\n",
    "with open(fname, 'r') as file:\n",
    "    data = file.read()\n",
    "    data = data.replace('the percent change in', 'the change in probability of purchasing')\n",
    "with open(fname, 'w') as file:\n",
    "    file.write(data)    "
   ]
  },
  {
   "cell_type": "code",
   "execution_count": null,
   "id": "652daa4d",
   "metadata": {},
   "outputs": [],
   "source": [
    "# Cook, sugar sources\n",
    "fname = '../tex/tables/itt_cook_source.tex'\n",
    "fix_pooled(fname)\n",
    "\n",
    "# edit description\n",
    "with open(fname, 'r') as file:\n",
    "    data = file.read()\n",
    "    data = data.replace('{m{0.23', '{m{0.27')\n",
    "    data = data.replace('the percent change', 'the absolute change')\n",
    "with open(fname, 'w') as file:\n",
    "    file.write(data)     "
   ]
  },
  {
   "cell_type": "code",
   "execution_count": null,
   "id": "322013f2",
   "metadata": {},
   "outputs": [],
   "source": [
    "# Cook, cross border trips\n",
    "fname = '../tex/tables/itt_cook_cross_border.tex'\n",
    "fix_pooled(fname)\n",
    "\n",
    "# add to note\n",
    "with open(fname, 'r') as file:\n",
    "    data = file.read()\n",
    "    data = data.replace('Fignote{Coefficients', 'Fignote{IB = Inside Border, CB = Cross Border. Coefficients')\n",
    "with open(fname, 'w') as file:\n",
    "    file.write(data)   "
   ]
  },
  {
   "cell_type": "markdown",
   "id": "4838f037",
   "metadata": {},
   "source": [
    "## Geography table"
   ]
  },
  {
   "cell_type": "code",
   "execution_count": null,
   "id": "94baa0b2",
   "metadata": {},
   "outputs": [],
   "source": [
    "# Cook geography\n",
    "fname = '../tex/tables/itt_geography.tex'\n",
    "\n",
    "with open(fname, 'r') as file:\n",
    "    data = file.read()\n",
    "\n",
    "# replace bottom of table notes and varnames\n",
    "replace_dict = {\n",
    "    # bottom of tables\n",
    "    'treatedhh': 'Treated Households',\n",
    "    'households': 'Households',\n",
    "    'household_months': 'Household-months',\n",
    "    'balance': 'Balanced Panel',\n",
    "    'weights': 'Sampling Weights',\n",
    "     }\n",
    "for k in replace_dict.keys():\n",
    "    data = data.replace(k, replace_dict[k], 1)\n",
    "\n",
    "# Spec label\n",
    "i = data.find('&\\multicolumn{1}{c}{(1)}')\n",
    "data = data[:i] + '& \\\\multicolumn{3}{c}{During tax} \\\\\\\\\\n\\\\cmidrule(l{.75em}){2-4} ' + data[i:]\n",
    "\n",
    "# add leftmost column title\n",
    "i = data.find('&\\multicolumn{1}{c}{(1)}')\n",
    "data = data[:i] + 'Zip layer' + data[i:]\n",
    "\n",
    "# add spacing\n",
    "for v in ['Middle layer', 'Innermost layer']:\n",
    "    data = data.replace(v, f'\\\\customlinespace \\n {v}')\n",
    "\n",
    "# save table\n",
    "with open(fname, 'w') as file:\n",
    "    file.write(data)"
   ]
  },
  {
   "cell_type": "code",
   "execution_count": null,
   "id": "9957dd4d",
   "metadata": {},
   "outputs": [],
   "source": [
    "data"
   ]
  },
  {
   "cell_type": "markdown",
   "id": "192a539b",
   "metadata": {},
   "source": [
    "## Decile tables"
   ]
  },
  {
   "cell_type": "code",
   "execution_count": null,
   "id": "fa19dadb",
   "metadata": {},
   "outputs": [],
   "source": [
    "def fix_xtiles(fname, xtiles=10, dv1='4 months sugar', dv2=None, replace_bottom=True):\n",
    "    with open(fname, 'r') as file:\n",
    "        data = file.read()\n",
    "    \n",
    "    # decile or quintile\n",
    "    if xtiles == 10:\n",
    "        tile = 'decile'\n",
    "    elif xtiles == 5:\n",
    "        tile = 'quintile'\n",
    "    else:\n",
    "        tile = 'percentile'\n",
    "    Tile = tile.capitalize()\n",
    "    \n",
    "    # replace all decile labels\n",
    "    for x in range(xtiles, 0, -1):\n",
    "        data = data.replace(f'{x}.percentiles X tau', f'\\\\customlinespace {Tile} {x}')\n",
    "\n",
    "    # replace bottom decile\n",
    "    if replace_bottom:\n",
    "        data = data.replace(f'{Tile} 1', f'{Tile}s 1 - 2', 1)\n",
    "\n",
    "    # replace bottom of table notes\n",
    "    replace_dict = {\n",
    "        'treatedhh': 'Treated Households',\n",
    "        'households': 'Households',\n",
    "        'household\\\\_months': 'Household-months',\n",
    "        'hhfixed': 'Household FEs',\n",
    "        'mfixed': 'Month FEs',\n",
    "        'balance': 'Balanced Panel',\n",
    "        'weights': 'Sampling Weights'\n",
    "    }\n",
    "    for k in replace_dict.keys():\n",
    "        data = data.replace(k, replace_dict[k], 1)\n",
    "\n",
    "    # add dependent variable description above models\n",
    "    i = data.find('&\\multicolumn{1}{c}{(1)}')\n",
    "    data = data[:i] + '& \\\\multicolumn{3}{c}{' + dv1 + '} \\\\\\\\\\n\\\\cmidrule(l{.75em}){2-4} ' + data[i:]\n",
    "    if dv2:\n",
    "        i = data.find('&\\multicolumn{1}{c}{(1)}')\n",
    "        data = data[:i] +  '\\\\cmidrule(l{.75em}){5-7} \\n' + data[i:]\n",
    "        i = data.find('\\\\\\\\\\n\\\\cmidrule(l{.75em}){2-4}')\n",
    "        data = data[:i] + '& \\\\multicolumn{3}{c}{' + dv2 + '}' + data[i:]\n",
    "        \n",
    "    # add leftmost column title\n",
    "    i = data.find('&\\multicolumn{1}{c}{(1)}')\n",
    "    data = data[:i] + f'Pre-tax soda {tile}' + data[i:]\n",
    "\n",
    "    # save table\n",
    "    with open(fname, 'w') as file:\n",
    "        file.write(data)"
   ]
  },
  {
   "cell_type": "code",
   "execution_count": null,
   "id": "9ed3a0d5",
   "metadata": {},
   "outputs": [],
   "source": [
    "# Cook, g sugar\n",
    "fname = '../tex/tables/sodatilesgcook.tex'\n",
    "fix_xtiles(fname, xtiles=10, dv1='Sugar during tax', dv2='Sugar 4 months post tax')"
   ]
  },
  {
   "cell_type": "code",
   "execution_count": null,
   "id": "9d8cf633",
   "metadata": {},
   "outputs": [],
   "source": [
    "# Cook, oz soda\n",
    "fname = '../tex/tables/sodatilesozcook.tex'\n",
    "fix_xtiles(fname, xtiles=10, dv1='Soda during tax', dv2='Soda 4 months post tax')"
   ]
  },
  {
   "cell_type": "code",
   "execution_count": null,
   "id": "4624cc32",
   "metadata": {},
   "outputs": [],
   "source": [
    "# Seattle and SF, g sugar\n",
    "fname = '../tex/tables/sodatilesgsf.tex'\n",
    "fix_xtiles(fname, xtiles=5, dv1='4 months sugar', dv2='12 months sugar')"
   ]
  },
  {
   "cell_type": "code",
   "execution_count": null,
   "id": "b36800be",
   "metadata": {},
   "outputs": [],
   "source": [
    "# Philly, g sugar\n",
    "fname = '../tex/tables/sodatilesgphilly.tex'\n",
    "fix_xtiles(fname, xtiles=5, dv1='4 months sugar', dv2='12 months sugar', replace_bottom=False)"
   ]
  },
  {
   "cell_type": "code",
   "execution_count": null,
   "id": "28ff25f6",
   "metadata": {},
   "outputs": [],
   "source": [
    "# Boulder and Oakland, g sugar\n",
    "fname = '../tex/tables/sodatilesgoak.tex'\n",
    "fix_xtiles(fname, xtiles=5, dv1='4 months sugar', dv2='12 months sugar', replace_bottom=False)"
   ]
  },
  {
   "cell_type": "code",
   "execution_count": null,
   "id": "b99e1193",
   "metadata": {},
   "outputs": [],
   "source": []
  }
 ],
 "metadata": {
  "kernelspec": {
   "display_name": "Python 3",
   "language": "python",
   "name": "python3"
  },
  "language_info": {
   "codemirror_mode": {
    "name": "ipython",
    "version": 3
   },
   "file_extension": ".py",
   "mimetype": "text/x-python",
   "name": "python",
   "nbconvert_exporter": "python",
   "pygments_lexer": "ipython3",
   "version": "3.7.10"
  },
  "toc": {
   "base_numbering": 1,
   "nav_menu": {},
   "number_sections": true,
   "sideBar": true,
   "skip_h1_title": true,
   "title_cell": "Table of Contents",
   "title_sidebar": "Contents",
   "toc_cell": true,
   "toc_position": {},
   "toc_section_display": true,
   "toc_window_display": true
  }
 },
 "nbformat": 4,
 "nbformat_minor": 5
}
